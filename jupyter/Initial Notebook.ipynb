{
 "cells": [
  {
   "cell_type": "markdown",
   "id": "9b325e15",
   "metadata": {},
   "source": [
    "# Kaggle Heart Disease Classification\n",
    "This notebook represents my data analysis and machine learning classification work for the Heart Disease UCI competition on Kaggle. It is linked here: https://www.kaggle.com/ronitf/heart-disease-uci \n",
    "\n",
    "This project's target variable is a 1/0 boolean indicator on if an individual has heart disease or not. As such, that is what I'll be predicting in this notebook. Since this is not a true Kaggle competition, but rather a public dataset, I will not be able to score myself against other individuals. Instead, I will use this as an opportunity to utilize the sklearn library to quickly put together predictions using a variety of models which will be compared and contrasted to help determine success."
   ]
  },
  {
   "cell_type": "markdown",
   "id": "410dbdda",
   "metadata": {},
   "source": [
    "## Environment Setup"
   ]
  },
  {
   "cell_type": "code",
   "execution_count": 1,
   "id": "ebc5b44e",
   "metadata": {},
   "outputs": [],
   "source": [
    "# Python package importing \n",
    "import numpy as np\n",
    "import pandas as pd\n",
    "\n",
    "import seaborn as sb\n",
    "import matplotlib.pyplot as plt\n",
    "\n",
    "from sklearn.preprocessing import OneHotEncoder\n",
    "from sklearn.linear_model import LogisticRegression\n",
    "from sklearn.linear_model import LogisticRegressionCV\n",
    "from sklearn.linear_model import RidgeClassifierCV\n",
    "from sklearn.linear_model import SGDClassifier\n",
    "from sklearn.neighbors import KNeighborsClassifier\n",
    "from sklearn.ensemble import RandomForestClassifier\n",
    "from sklearn.svm import SVC\n",
    "from sklearn.model_selection import train_test_split\n",
    "from sklearn.tree import DecisionTreeClassifier\n",
    "from sklearn import preprocessing as skpp\n",
    "from sklearn import metrics"
   ]
  },
  {
   "cell_type": "code",
   "execution_count": 2,
   "id": "b368615a",
   "metadata": {},
   "outputs": [],
   "source": [
    "# Global variable declaration\n",
    "source_csv_file_path = 'C:\\\\Users\\\\vandy\\\\OneDrive\\\\Documents\\\\GitHub\\\\Kaggle_heart_dis_prediction\\\\data\\\\heart.csv'"
   ]
  },
  {
   "cell_type": "markdown",
   "id": "e0e829a3",
   "metadata": {},
   "source": [
    "## Data Import\n",
    "Here we get our first look at the dataset we will be working with. "
   ]
  },
  {
   "cell_type": "code",
   "execution_count": 3,
   "id": "2e1edc6b",
   "metadata": {},
   "outputs": [
    {
     "name": "stdout",
     "output_type": "stream",
     "text": [
      "The number of columns in the dataset:  14\n",
      "The number of rows in the dataset:  303\n"
     ]
    }
   ],
   "source": [
    "# Source data import into frame\n",
    "heart_frame = pd.read_csv(source_csv_file_path)\n",
    "\n",
    "# Frame dimensions\n",
    "print('The number of columns in the dataset: ', heart_frame.shape[1])\n",
    "print('The number of rows in the dataset: ', heart_frame.shape[0])"
   ]
  },
  {
   "cell_type": "code",
   "execution_count": 4,
   "id": "81cb03eb",
   "metadata": {},
   "outputs": [
    {
     "data": {
      "text/html": [
       "<style type=\"text/css\">\n",
       "</style>\n",
       "<table id=\"T_1621d_\">\n",
       "  <thead>\n",
       "    <tr>\n",
       "      <th class=\"blank level0\" >&nbsp;</th>\n",
       "      <th class=\"col_heading level0 col0\" >age</th>\n",
       "      <th class=\"col_heading level0 col1\" >sex</th>\n",
       "      <th class=\"col_heading level0 col2\" >cp</th>\n",
       "      <th class=\"col_heading level0 col3\" >trestbps</th>\n",
       "      <th class=\"col_heading level0 col4\" >chol</th>\n",
       "      <th class=\"col_heading level0 col5\" >fbs</th>\n",
       "      <th class=\"col_heading level0 col6\" >restecg</th>\n",
       "      <th class=\"col_heading level0 col7\" >thalach</th>\n",
       "      <th class=\"col_heading level0 col8\" >exang</th>\n",
       "      <th class=\"col_heading level0 col9\" >oldpeak</th>\n",
       "      <th class=\"col_heading level0 col10\" >slope</th>\n",
       "      <th class=\"col_heading level0 col11\" >ca</th>\n",
       "      <th class=\"col_heading level0 col12\" >thal</th>\n",
       "      <th class=\"col_heading level0 col13\" >target</th>\n",
       "    </tr>\n",
       "  </thead>\n",
       "  <tbody>\n",
       "    <tr>\n",
       "      <th id=\"T_1621d_level0_row0\" class=\"row_heading level0 row0\" >0</th>\n",
       "      <td id=\"T_1621d_row0_col0\" class=\"data row0 col0\" >63</td>\n",
       "      <td id=\"T_1621d_row0_col1\" class=\"data row0 col1\" >1</td>\n",
       "      <td id=\"T_1621d_row0_col2\" class=\"data row0 col2\" >3</td>\n",
       "      <td id=\"T_1621d_row0_col3\" class=\"data row0 col3\" >145</td>\n",
       "      <td id=\"T_1621d_row0_col4\" class=\"data row0 col4\" >233</td>\n",
       "      <td id=\"T_1621d_row0_col5\" class=\"data row0 col5\" >1</td>\n",
       "      <td id=\"T_1621d_row0_col6\" class=\"data row0 col6\" >0</td>\n",
       "      <td id=\"T_1621d_row0_col7\" class=\"data row0 col7\" >150</td>\n",
       "      <td id=\"T_1621d_row0_col8\" class=\"data row0 col8\" >0</td>\n",
       "      <td id=\"T_1621d_row0_col9\" class=\"data row0 col9\" >2.300000</td>\n",
       "      <td id=\"T_1621d_row0_col10\" class=\"data row0 col10\" >0</td>\n",
       "      <td id=\"T_1621d_row0_col11\" class=\"data row0 col11\" >0</td>\n",
       "      <td id=\"T_1621d_row0_col12\" class=\"data row0 col12\" >1</td>\n",
       "      <td id=\"T_1621d_row0_col13\" class=\"data row0 col13\" >1</td>\n",
       "    </tr>\n",
       "    <tr>\n",
       "      <th id=\"T_1621d_level0_row1\" class=\"row_heading level0 row1\" >1</th>\n",
       "      <td id=\"T_1621d_row1_col0\" class=\"data row1 col0\" >37</td>\n",
       "      <td id=\"T_1621d_row1_col1\" class=\"data row1 col1\" >1</td>\n",
       "      <td id=\"T_1621d_row1_col2\" class=\"data row1 col2\" >2</td>\n",
       "      <td id=\"T_1621d_row1_col3\" class=\"data row1 col3\" >130</td>\n",
       "      <td id=\"T_1621d_row1_col4\" class=\"data row1 col4\" >250</td>\n",
       "      <td id=\"T_1621d_row1_col5\" class=\"data row1 col5\" >0</td>\n",
       "      <td id=\"T_1621d_row1_col6\" class=\"data row1 col6\" >1</td>\n",
       "      <td id=\"T_1621d_row1_col7\" class=\"data row1 col7\" >187</td>\n",
       "      <td id=\"T_1621d_row1_col8\" class=\"data row1 col8\" >0</td>\n",
       "      <td id=\"T_1621d_row1_col9\" class=\"data row1 col9\" >3.500000</td>\n",
       "      <td id=\"T_1621d_row1_col10\" class=\"data row1 col10\" >0</td>\n",
       "      <td id=\"T_1621d_row1_col11\" class=\"data row1 col11\" >0</td>\n",
       "      <td id=\"T_1621d_row1_col12\" class=\"data row1 col12\" >2</td>\n",
       "      <td id=\"T_1621d_row1_col13\" class=\"data row1 col13\" >1</td>\n",
       "    </tr>\n",
       "    <tr>\n",
       "      <th id=\"T_1621d_level0_row2\" class=\"row_heading level0 row2\" >2</th>\n",
       "      <td id=\"T_1621d_row2_col0\" class=\"data row2 col0\" >41</td>\n",
       "      <td id=\"T_1621d_row2_col1\" class=\"data row2 col1\" >0</td>\n",
       "      <td id=\"T_1621d_row2_col2\" class=\"data row2 col2\" >1</td>\n",
       "      <td id=\"T_1621d_row2_col3\" class=\"data row2 col3\" >130</td>\n",
       "      <td id=\"T_1621d_row2_col4\" class=\"data row2 col4\" >204</td>\n",
       "      <td id=\"T_1621d_row2_col5\" class=\"data row2 col5\" >0</td>\n",
       "      <td id=\"T_1621d_row2_col6\" class=\"data row2 col6\" >0</td>\n",
       "      <td id=\"T_1621d_row2_col7\" class=\"data row2 col7\" >172</td>\n",
       "      <td id=\"T_1621d_row2_col8\" class=\"data row2 col8\" >0</td>\n",
       "      <td id=\"T_1621d_row2_col9\" class=\"data row2 col9\" >1.400000</td>\n",
       "      <td id=\"T_1621d_row2_col10\" class=\"data row2 col10\" >2</td>\n",
       "      <td id=\"T_1621d_row2_col11\" class=\"data row2 col11\" >0</td>\n",
       "      <td id=\"T_1621d_row2_col12\" class=\"data row2 col12\" >2</td>\n",
       "      <td id=\"T_1621d_row2_col13\" class=\"data row2 col13\" >1</td>\n",
       "    </tr>\n",
       "    <tr>\n",
       "      <th id=\"T_1621d_level0_row3\" class=\"row_heading level0 row3\" >3</th>\n",
       "      <td id=\"T_1621d_row3_col0\" class=\"data row3 col0\" >56</td>\n",
       "      <td id=\"T_1621d_row3_col1\" class=\"data row3 col1\" >1</td>\n",
       "      <td id=\"T_1621d_row3_col2\" class=\"data row3 col2\" >1</td>\n",
       "      <td id=\"T_1621d_row3_col3\" class=\"data row3 col3\" >120</td>\n",
       "      <td id=\"T_1621d_row3_col4\" class=\"data row3 col4\" >236</td>\n",
       "      <td id=\"T_1621d_row3_col5\" class=\"data row3 col5\" >0</td>\n",
       "      <td id=\"T_1621d_row3_col6\" class=\"data row3 col6\" >1</td>\n",
       "      <td id=\"T_1621d_row3_col7\" class=\"data row3 col7\" >178</td>\n",
       "      <td id=\"T_1621d_row3_col8\" class=\"data row3 col8\" >0</td>\n",
       "      <td id=\"T_1621d_row3_col9\" class=\"data row3 col9\" >0.800000</td>\n",
       "      <td id=\"T_1621d_row3_col10\" class=\"data row3 col10\" >2</td>\n",
       "      <td id=\"T_1621d_row3_col11\" class=\"data row3 col11\" >0</td>\n",
       "      <td id=\"T_1621d_row3_col12\" class=\"data row3 col12\" >2</td>\n",
       "      <td id=\"T_1621d_row3_col13\" class=\"data row3 col13\" >1</td>\n",
       "    </tr>\n",
       "    <tr>\n",
       "      <th id=\"T_1621d_level0_row4\" class=\"row_heading level0 row4\" >4</th>\n",
       "      <td id=\"T_1621d_row4_col0\" class=\"data row4 col0\" >57</td>\n",
       "      <td id=\"T_1621d_row4_col1\" class=\"data row4 col1\" >0</td>\n",
       "      <td id=\"T_1621d_row4_col2\" class=\"data row4 col2\" >0</td>\n",
       "      <td id=\"T_1621d_row4_col3\" class=\"data row4 col3\" >120</td>\n",
       "      <td id=\"T_1621d_row4_col4\" class=\"data row4 col4\" >354</td>\n",
       "      <td id=\"T_1621d_row4_col5\" class=\"data row4 col5\" >0</td>\n",
       "      <td id=\"T_1621d_row4_col6\" class=\"data row4 col6\" >1</td>\n",
       "      <td id=\"T_1621d_row4_col7\" class=\"data row4 col7\" >163</td>\n",
       "      <td id=\"T_1621d_row4_col8\" class=\"data row4 col8\" >1</td>\n",
       "      <td id=\"T_1621d_row4_col9\" class=\"data row4 col9\" >0.600000</td>\n",
       "      <td id=\"T_1621d_row4_col10\" class=\"data row4 col10\" >2</td>\n",
       "      <td id=\"T_1621d_row4_col11\" class=\"data row4 col11\" >0</td>\n",
       "      <td id=\"T_1621d_row4_col12\" class=\"data row4 col12\" >2</td>\n",
       "      <td id=\"T_1621d_row4_col13\" class=\"data row4 col13\" >1</td>\n",
       "    </tr>\n",
       "    <tr>\n",
       "      <th id=\"T_1621d_level0_row5\" class=\"row_heading level0 row5\" >5</th>\n",
       "      <td id=\"T_1621d_row5_col0\" class=\"data row5 col0\" >57</td>\n",
       "      <td id=\"T_1621d_row5_col1\" class=\"data row5 col1\" >1</td>\n",
       "      <td id=\"T_1621d_row5_col2\" class=\"data row5 col2\" >0</td>\n",
       "      <td id=\"T_1621d_row5_col3\" class=\"data row5 col3\" >140</td>\n",
       "      <td id=\"T_1621d_row5_col4\" class=\"data row5 col4\" >192</td>\n",
       "      <td id=\"T_1621d_row5_col5\" class=\"data row5 col5\" >0</td>\n",
       "      <td id=\"T_1621d_row5_col6\" class=\"data row5 col6\" >1</td>\n",
       "      <td id=\"T_1621d_row5_col7\" class=\"data row5 col7\" >148</td>\n",
       "      <td id=\"T_1621d_row5_col8\" class=\"data row5 col8\" >0</td>\n",
       "      <td id=\"T_1621d_row5_col9\" class=\"data row5 col9\" >0.400000</td>\n",
       "      <td id=\"T_1621d_row5_col10\" class=\"data row5 col10\" >1</td>\n",
       "      <td id=\"T_1621d_row5_col11\" class=\"data row5 col11\" >0</td>\n",
       "      <td id=\"T_1621d_row5_col12\" class=\"data row5 col12\" >1</td>\n",
       "      <td id=\"T_1621d_row5_col13\" class=\"data row5 col13\" >1</td>\n",
       "    </tr>\n",
       "    <tr>\n",
       "      <th id=\"T_1621d_level0_row6\" class=\"row_heading level0 row6\" >6</th>\n",
       "      <td id=\"T_1621d_row6_col0\" class=\"data row6 col0\" >56</td>\n",
       "      <td id=\"T_1621d_row6_col1\" class=\"data row6 col1\" >0</td>\n",
       "      <td id=\"T_1621d_row6_col2\" class=\"data row6 col2\" >1</td>\n",
       "      <td id=\"T_1621d_row6_col3\" class=\"data row6 col3\" >140</td>\n",
       "      <td id=\"T_1621d_row6_col4\" class=\"data row6 col4\" >294</td>\n",
       "      <td id=\"T_1621d_row6_col5\" class=\"data row6 col5\" >0</td>\n",
       "      <td id=\"T_1621d_row6_col6\" class=\"data row6 col6\" >0</td>\n",
       "      <td id=\"T_1621d_row6_col7\" class=\"data row6 col7\" >153</td>\n",
       "      <td id=\"T_1621d_row6_col8\" class=\"data row6 col8\" >0</td>\n",
       "      <td id=\"T_1621d_row6_col9\" class=\"data row6 col9\" >1.300000</td>\n",
       "      <td id=\"T_1621d_row6_col10\" class=\"data row6 col10\" >1</td>\n",
       "      <td id=\"T_1621d_row6_col11\" class=\"data row6 col11\" >0</td>\n",
       "      <td id=\"T_1621d_row6_col12\" class=\"data row6 col12\" >2</td>\n",
       "      <td id=\"T_1621d_row6_col13\" class=\"data row6 col13\" >1</td>\n",
       "    </tr>\n",
       "    <tr>\n",
       "      <th id=\"T_1621d_level0_row7\" class=\"row_heading level0 row7\" >7</th>\n",
       "      <td id=\"T_1621d_row7_col0\" class=\"data row7 col0\" >44</td>\n",
       "      <td id=\"T_1621d_row7_col1\" class=\"data row7 col1\" >1</td>\n",
       "      <td id=\"T_1621d_row7_col2\" class=\"data row7 col2\" >1</td>\n",
       "      <td id=\"T_1621d_row7_col3\" class=\"data row7 col3\" >120</td>\n",
       "      <td id=\"T_1621d_row7_col4\" class=\"data row7 col4\" >263</td>\n",
       "      <td id=\"T_1621d_row7_col5\" class=\"data row7 col5\" >0</td>\n",
       "      <td id=\"T_1621d_row7_col6\" class=\"data row7 col6\" >1</td>\n",
       "      <td id=\"T_1621d_row7_col7\" class=\"data row7 col7\" >173</td>\n",
       "      <td id=\"T_1621d_row7_col8\" class=\"data row7 col8\" >0</td>\n",
       "      <td id=\"T_1621d_row7_col9\" class=\"data row7 col9\" >0.000000</td>\n",
       "      <td id=\"T_1621d_row7_col10\" class=\"data row7 col10\" >2</td>\n",
       "      <td id=\"T_1621d_row7_col11\" class=\"data row7 col11\" >0</td>\n",
       "      <td id=\"T_1621d_row7_col12\" class=\"data row7 col12\" >3</td>\n",
       "      <td id=\"T_1621d_row7_col13\" class=\"data row7 col13\" >1</td>\n",
       "    </tr>\n",
       "    <tr>\n",
       "      <th id=\"T_1621d_level0_row8\" class=\"row_heading level0 row8\" >8</th>\n",
       "      <td id=\"T_1621d_row8_col0\" class=\"data row8 col0\" >52</td>\n",
       "      <td id=\"T_1621d_row8_col1\" class=\"data row8 col1\" >1</td>\n",
       "      <td id=\"T_1621d_row8_col2\" class=\"data row8 col2\" >2</td>\n",
       "      <td id=\"T_1621d_row8_col3\" class=\"data row8 col3\" >172</td>\n",
       "      <td id=\"T_1621d_row8_col4\" class=\"data row8 col4\" >199</td>\n",
       "      <td id=\"T_1621d_row8_col5\" class=\"data row8 col5\" >1</td>\n",
       "      <td id=\"T_1621d_row8_col6\" class=\"data row8 col6\" >1</td>\n",
       "      <td id=\"T_1621d_row8_col7\" class=\"data row8 col7\" >162</td>\n",
       "      <td id=\"T_1621d_row8_col8\" class=\"data row8 col8\" >0</td>\n",
       "      <td id=\"T_1621d_row8_col9\" class=\"data row8 col9\" >0.500000</td>\n",
       "      <td id=\"T_1621d_row8_col10\" class=\"data row8 col10\" >2</td>\n",
       "      <td id=\"T_1621d_row8_col11\" class=\"data row8 col11\" >0</td>\n",
       "      <td id=\"T_1621d_row8_col12\" class=\"data row8 col12\" >3</td>\n",
       "      <td id=\"T_1621d_row8_col13\" class=\"data row8 col13\" >1</td>\n",
       "    </tr>\n",
       "    <tr>\n",
       "      <th id=\"T_1621d_level0_row9\" class=\"row_heading level0 row9\" >9</th>\n",
       "      <td id=\"T_1621d_row9_col0\" class=\"data row9 col0\" >57</td>\n",
       "      <td id=\"T_1621d_row9_col1\" class=\"data row9 col1\" >1</td>\n",
       "      <td id=\"T_1621d_row9_col2\" class=\"data row9 col2\" >2</td>\n",
       "      <td id=\"T_1621d_row9_col3\" class=\"data row9 col3\" >150</td>\n",
       "      <td id=\"T_1621d_row9_col4\" class=\"data row9 col4\" >168</td>\n",
       "      <td id=\"T_1621d_row9_col5\" class=\"data row9 col5\" >0</td>\n",
       "      <td id=\"T_1621d_row9_col6\" class=\"data row9 col6\" >1</td>\n",
       "      <td id=\"T_1621d_row9_col7\" class=\"data row9 col7\" >174</td>\n",
       "      <td id=\"T_1621d_row9_col8\" class=\"data row9 col8\" >0</td>\n",
       "      <td id=\"T_1621d_row9_col9\" class=\"data row9 col9\" >1.600000</td>\n",
       "      <td id=\"T_1621d_row9_col10\" class=\"data row9 col10\" >2</td>\n",
       "      <td id=\"T_1621d_row9_col11\" class=\"data row9 col11\" >0</td>\n",
       "      <td id=\"T_1621d_row9_col12\" class=\"data row9 col12\" >2</td>\n",
       "      <td id=\"T_1621d_row9_col13\" class=\"data row9 col13\" >1</td>\n",
       "    </tr>\n",
       "    <tr>\n",
       "      <th id=\"T_1621d_level0_row10\" class=\"row_heading level0 row10\" >10</th>\n",
       "      <td id=\"T_1621d_row10_col0\" class=\"data row10 col0\" >54</td>\n",
       "      <td id=\"T_1621d_row10_col1\" class=\"data row10 col1\" >1</td>\n",
       "      <td id=\"T_1621d_row10_col2\" class=\"data row10 col2\" >0</td>\n",
       "      <td id=\"T_1621d_row10_col3\" class=\"data row10 col3\" >140</td>\n",
       "      <td id=\"T_1621d_row10_col4\" class=\"data row10 col4\" >239</td>\n",
       "      <td id=\"T_1621d_row10_col5\" class=\"data row10 col5\" >0</td>\n",
       "      <td id=\"T_1621d_row10_col6\" class=\"data row10 col6\" >1</td>\n",
       "      <td id=\"T_1621d_row10_col7\" class=\"data row10 col7\" >160</td>\n",
       "      <td id=\"T_1621d_row10_col8\" class=\"data row10 col8\" >0</td>\n",
       "      <td id=\"T_1621d_row10_col9\" class=\"data row10 col9\" >1.200000</td>\n",
       "      <td id=\"T_1621d_row10_col10\" class=\"data row10 col10\" >2</td>\n",
       "      <td id=\"T_1621d_row10_col11\" class=\"data row10 col11\" >0</td>\n",
       "      <td id=\"T_1621d_row10_col12\" class=\"data row10 col12\" >2</td>\n",
       "      <td id=\"T_1621d_row10_col13\" class=\"data row10 col13\" >1</td>\n",
       "    </tr>\n",
       "    <tr>\n",
       "      <th id=\"T_1621d_level0_row11\" class=\"row_heading level0 row11\" >11</th>\n",
       "      <td id=\"T_1621d_row11_col0\" class=\"data row11 col0\" >48</td>\n",
       "      <td id=\"T_1621d_row11_col1\" class=\"data row11 col1\" >0</td>\n",
       "      <td id=\"T_1621d_row11_col2\" class=\"data row11 col2\" >2</td>\n",
       "      <td id=\"T_1621d_row11_col3\" class=\"data row11 col3\" >130</td>\n",
       "      <td id=\"T_1621d_row11_col4\" class=\"data row11 col4\" >275</td>\n",
       "      <td id=\"T_1621d_row11_col5\" class=\"data row11 col5\" >0</td>\n",
       "      <td id=\"T_1621d_row11_col6\" class=\"data row11 col6\" >1</td>\n",
       "      <td id=\"T_1621d_row11_col7\" class=\"data row11 col7\" >139</td>\n",
       "      <td id=\"T_1621d_row11_col8\" class=\"data row11 col8\" >0</td>\n",
       "      <td id=\"T_1621d_row11_col9\" class=\"data row11 col9\" >0.200000</td>\n",
       "      <td id=\"T_1621d_row11_col10\" class=\"data row11 col10\" >2</td>\n",
       "      <td id=\"T_1621d_row11_col11\" class=\"data row11 col11\" >0</td>\n",
       "      <td id=\"T_1621d_row11_col12\" class=\"data row11 col12\" >2</td>\n",
       "      <td id=\"T_1621d_row11_col13\" class=\"data row11 col13\" >1</td>\n",
       "    </tr>\n",
       "    <tr>\n",
       "      <th id=\"T_1621d_level0_row12\" class=\"row_heading level0 row12\" >12</th>\n",
       "      <td id=\"T_1621d_row12_col0\" class=\"data row12 col0\" >49</td>\n",
       "      <td id=\"T_1621d_row12_col1\" class=\"data row12 col1\" >1</td>\n",
       "      <td id=\"T_1621d_row12_col2\" class=\"data row12 col2\" >1</td>\n",
       "      <td id=\"T_1621d_row12_col3\" class=\"data row12 col3\" >130</td>\n",
       "      <td id=\"T_1621d_row12_col4\" class=\"data row12 col4\" >266</td>\n",
       "      <td id=\"T_1621d_row12_col5\" class=\"data row12 col5\" >0</td>\n",
       "      <td id=\"T_1621d_row12_col6\" class=\"data row12 col6\" >1</td>\n",
       "      <td id=\"T_1621d_row12_col7\" class=\"data row12 col7\" >171</td>\n",
       "      <td id=\"T_1621d_row12_col8\" class=\"data row12 col8\" >0</td>\n",
       "      <td id=\"T_1621d_row12_col9\" class=\"data row12 col9\" >0.600000</td>\n",
       "      <td id=\"T_1621d_row12_col10\" class=\"data row12 col10\" >2</td>\n",
       "      <td id=\"T_1621d_row12_col11\" class=\"data row12 col11\" >0</td>\n",
       "      <td id=\"T_1621d_row12_col12\" class=\"data row12 col12\" >2</td>\n",
       "      <td id=\"T_1621d_row12_col13\" class=\"data row12 col13\" >1</td>\n",
       "    </tr>\n",
       "    <tr>\n",
       "      <th id=\"T_1621d_level0_row13\" class=\"row_heading level0 row13\" >13</th>\n",
       "      <td id=\"T_1621d_row13_col0\" class=\"data row13 col0\" >64</td>\n",
       "      <td id=\"T_1621d_row13_col1\" class=\"data row13 col1\" >1</td>\n",
       "      <td id=\"T_1621d_row13_col2\" class=\"data row13 col2\" >3</td>\n",
       "      <td id=\"T_1621d_row13_col3\" class=\"data row13 col3\" >110</td>\n",
       "      <td id=\"T_1621d_row13_col4\" class=\"data row13 col4\" >211</td>\n",
       "      <td id=\"T_1621d_row13_col5\" class=\"data row13 col5\" >0</td>\n",
       "      <td id=\"T_1621d_row13_col6\" class=\"data row13 col6\" >0</td>\n",
       "      <td id=\"T_1621d_row13_col7\" class=\"data row13 col7\" >144</td>\n",
       "      <td id=\"T_1621d_row13_col8\" class=\"data row13 col8\" >1</td>\n",
       "      <td id=\"T_1621d_row13_col9\" class=\"data row13 col9\" >1.800000</td>\n",
       "      <td id=\"T_1621d_row13_col10\" class=\"data row13 col10\" >1</td>\n",
       "      <td id=\"T_1621d_row13_col11\" class=\"data row13 col11\" >0</td>\n",
       "      <td id=\"T_1621d_row13_col12\" class=\"data row13 col12\" >2</td>\n",
       "      <td id=\"T_1621d_row13_col13\" class=\"data row13 col13\" >1</td>\n",
       "    </tr>\n",
       "    <tr>\n",
       "      <th id=\"T_1621d_level0_row14\" class=\"row_heading level0 row14\" >14</th>\n",
       "      <td id=\"T_1621d_row14_col0\" class=\"data row14 col0\" >58</td>\n",
       "      <td id=\"T_1621d_row14_col1\" class=\"data row14 col1\" >0</td>\n",
       "      <td id=\"T_1621d_row14_col2\" class=\"data row14 col2\" >3</td>\n",
       "      <td id=\"T_1621d_row14_col3\" class=\"data row14 col3\" >150</td>\n",
       "      <td id=\"T_1621d_row14_col4\" class=\"data row14 col4\" >283</td>\n",
       "      <td id=\"T_1621d_row14_col5\" class=\"data row14 col5\" >1</td>\n",
       "      <td id=\"T_1621d_row14_col6\" class=\"data row14 col6\" >0</td>\n",
       "      <td id=\"T_1621d_row14_col7\" class=\"data row14 col7\" >162</td>\n",
       "      <td id=\"T_1621d_row14_col8\" class=\"data row14 col8\" >0</td>\n",
       "      <td id=\"T_1621d_row14_col9\" class=\"data row14 col9\" >1.000000</td>\n",
       "      <td id=\"T_1621d_row14_col10\" class=\"data row14 col10\" >2</td>\n",
       "      <td id=\"T_1621d_row14_col11\" class=\"data row14 col11\" >0</td>\n",
       "      <td id=\"T_1621d_row14_col12\" class=\"data row14 col12\" >2</td>\n",
       "      <td id=\"T_1621d_row14_col13\" class=\"data row14 col13\" >1</td>\n",
       "    </tr>\n",
       "    <tr>\n",
       "      <th id=\"T_1621d_level0_row15\" class=\"row_heading level0 row15\" >15</th>\n",
       "      <td id=\"T_1621d_row15_col0\" class=\"data row15 col0\" >50</td>\n",
       "      <td id=\"T_1621d_row15_col1\" class=\"data row15 col1\" >0</td>\n",
       "      <td id=\"T_1621d_row15_col2\" class=\"data row15 col2\" >2</td>\n",
       "      <td id=\"T_1621d_row15_col3\" class=\"data row15 col3\" >120</td>\n",
       "      <td id=\"T_1621d_row15_col4\" class=\"data row15 col4\" >219</td>\n",
       "      <td id=\"T_1621d_row15_col5\" class=\"data row15 col5\" >0</td>\n",
       "      <td id=\"T_1621d_row15_col6\" class=\"data row15 col6\" >1</td>\n",
       "      <td id=\"T_1621d_row15_col7\" class=\"data row15 col7\" >158</td>\n",
       "      <td id=\"T_1621d_row15_col8\" class=\"data row15 col8\" >0</td>\n",
       "      <td id=\"T_1621d_row15_col9\" class=\"data row15 col9\" >1.600000</td>\n",
       "      <td id=\"T_1621d_row15_col10\" class=\"data row15 col10\" >1</td>\n",
       "      <td id=\"T_1621d_row15_col11\" class=\"data row15 col11\" >0</td>\n",
       "      <td id=\"T_1621d_row15_col12\" class=\"data row15 col12\" >2</td>\n",
       "      <td id=\"T_1621d_row15_col13\" class=\"data row15 col13\" >1</td>\n",
       "    </tr>\n",
       "    <tr>\n",
       "      <th id=\"T_1621d_level0_row16\" class=\"row_heading level0 row16\" >16</th>\n",
       "      <td id=\"T_1621d_row16_col0\" class=\"data row16 col0\" >58</td>\n",
       "      <td id=\"T_1621d_row16_col1\" class=\"data row16 col1\" >0</td>\n",
       "      <td id=\"T_1621d_row16_col2\" class=\"data row16 col2\" >2</td>\n",
       "      <td id=\"T_1621d_row16_col3\" class=\"data row16 col3\" >120</td>\n",
       "      <td id=\"T_1621d_row16_col4\" class=\"data row16 col4\" >340</td>\n",
       "      <td id=\"T_1621d_row16_col5\" class=\"data row16 col5\" >0</td>\n",
       "      <td id=\"T_1621d_row16_col6\" class=\"data row16 col6\" >1</td>\n",
       "      <td id=\"T_1621d_row16_col7\" class=\"data row16 col7\" >172</td>\n",
       "      <td id=\"T_1621d_row16_col8\" class=\"data row16 col8\" >0</td>\n",
       "      <td id=\"T_1621d_row16_col9\" class=\"data row16 col9\" >0.000000</td>\n",
       "      <td id=\"T_1621d_row16_col10\" class=\"data row16 col10\" >2</td>\n",
       "      <td id=\"T_1621d_row16_col11\" class=\"data row16 col11\" >0</td>\n",
       "      <td id=\"T_1621d_row16_col12\" class=\"data row16 col12\" >2</td>\n",
       "      <td id=\"T_1621d_row16_col13\" class=\"data row16 col13\" >1</td>\n",
       "    </tr>\n",
       "    <tr>\n",
       "      <th id=\"T_1621d_level0_row17\" class=\"row_heading level0 row17\" >17</th>\n",
       "      <td id=\"T_1621d_row17_col0\" class=\"data row17 col0\" >66</td>\n",
       "      <td id=\"T_1621d_row17_col1\" class=\"data row17 col1\" >0</td>\n",
       "      <td id=\"T_1621d_row17_col2\" class=\"data row17 col2\" >3</td>\n",
       "      <td id=\"T_1621d_row17_col3\" class=\"data row17 col3\" >150</td>\n",
       "      <td id=\"T_1621d_row17_col4\" class=\"data row17 col4\" >226</td>\n",
       "      <td id=\"T_1621d_row17_col5\" class=\"data row17 col5\" >0</td>\n",
       "      <td id=\"T_1621d_row17_col6\" class=\"data row17 col6\" >1</td>\n",
       "      <td id=\"T_1621d_row17_col7\" class=\"data row17 col7\" >114</td>\n",
       "      <td id=\"T_1621d_row17_col8\" class=\"data row17 col8\" >0</td>\n",
       "      <td id=\"T_1621d_row17_col9\" class=\"data row17 col9\" >2.600000</td>\n",
       "      <td id=\"T_1621d_row17_col10\" class=\"data row17 col10\" >0</td>\n",
       "      <td id=\"T_1621d_row17_col11\" class=\"data row17 col11\" >0</td>\n",
       "      <td id=\"T_1621d_row17_col12\" class=\"data row17 col12\" >2</td>\n",
       "      <td id=\"T_1621d_row17_col13\" class=\"data row17 col13\" >1</td>\n",
       "    </tr>\n",
       "    <tr>\n",
       "      <th id=\"T_1621d_level0_row18\" class=\"row_heading level0 row18\" >18</th>\n",
       "      <td id=\"T_1621d_row18_col0\" class=\"data row18 col0\" >43</td>\n",
       "      <td id=\"T_1621d_row18_col1\" class=\"data row18 col1\" >1</td>\n",
       "      <td id=\"T_1621d_row18_col2\" class=\"data row18 col2\" >0</td>\n",
       "      <td id=\"T_1621d_row18_col3\" class=\"data row18 col3\" >150</td>\n",
       "      <td id=\"T_1621d_row18_col4\" class=\"data row18 col4\" >247</td>\n",
       "      <td id=\"T_1621d_row18_col5\" class=\"data row18 col5\" >0</td>\n",
       "      <td id=\"T_1621d_row18_col6\" class=\"data row18 col6\" >1</td>\n",
       "      <td id=\"T_1621d_row18_col7\" class=\"data row18 col7\" >171</td>\n",
       "      <td id=\"T_1621d_row18_col8\" class=\"data row18 col8\" >0</td>\n",
       "      <td id=\"T_1621d_row18_col9\" class=\"data row18 col9\" >1.500000</td>\n",
       "      <td id=\"T_1621d_row18_col10\" class=\"data row18 col10\" >2</td>\n",
       "      <td id=\"T_1621d_row18_col11\" class=\"data row18 col11\" >0</td>\n",
       "      <td id=\"T_1621d_row18_col12\" class=\"data row18 col12\" >2</td>\n",
       "      <td id=\"T_1621d_row18_col13\" class=\"data row18 col13\" >1</td>\n",
       "    </tr>\n",
       "    <tr>\n",
       "      <th id=\"T_1621d_level0_row19\" class=\"row_heading level0 row19\" >19</th>\n",
       "      <td id=\"T_1621d_row19_col0\" class=\"data row19 col0\" >69</td>\n",
       "      <td id=\"T_1621d_row19_col1\" class=\"data row19 col1\" >0</td>\n",
       "      <td id=\"T_1621d_row19_col2\" class=\"data row19 col2\" >3</td>\n",
       "      <td id=\"T_1621d_row19_col3\" class=\"data row19 col3\" >140</td>\n",
       "      <td id=\"T_1621d_row19_col4\" class=\"data row19 col4\" >239</td>\n",
       "      <td id=\"T_1621d_row19_col5\" class=\"data row19 col5\" >0</td>\n",
       "      <td id=\"T_1621d_row19_col6\" class=\"data row19 col6\" >1</td>\n",
       "      <td id=\"T_1621d_row19_col7\" class=\"data row19 col7\" >151</td>\n",
       "      <td id=\"T_1621d_row19_col8\" class=\"data row19 col8\" >0</td>\n",
       "      <td id=\"T_1621d_row19_col9\" class=\"data row19 col9\" >1.800000</td>\n",
       "      <td id=\"T_1621d_row19_col10\" class=\"data row19 col10\" >2</td>\n",
       "      <td id=\"T_1621d_row19_col11\" class=\"data row19 col11\" >2</td>\n",
       "      <td id=\"T_1621d_row19_col12\" class=\"data row19 col12\" >2</td>\n",
       "      <td id=\"T_1621d_row19_col13\" class=\"data row19 col13\" >1</td>\n",
       "    </tr>\n",
       "  </tbody>\n",
       "</table>\n"
      ],
      "text/plain": [
       "<pandas.io.formats.style.Styler at 0x2304fb38940>"
      ]
     },
     "execution_count": 4,
     "metadata": {},
     "output_type": "execute_result"
    }
   ],
   "source": [
    "# Frame print out\n",
    "heart_frame[0:20].style"
   ]
  },
  {
   "cell_type": "markdown",
   "id": "177f2c34",
   "metadata": {},
   "source": [
    "We see this is a relatively narrow and short dataset, meaning that this should be a relatively simple model and that overfitting will be easy to encounter. Ideally in an actual medical implementation, more rows would be desired to allow for a more accurate model and provide additional testing data."
   ]
  },
  {
   "cell_type": "markdown",
   "id": "10350126",
   "metadata": {},
   "source": [
    "## Data Quality Checks"
   ]
  },
  {
   "cell_type": "code",
   "execution_count": 5,
   "id": "662a07ba",
   "metadata": {},
   "outputs": [
    {
     "data": {
      "text/html": [
       "<div>\n",
       "<style scoped>\n",
       "    .dataframe tbody tr th:only-of-type {\n",
       "        vertical-align: middle;\n",
       "    }\n",
       "\n",
       "    .dataframe tbody tr th {\n",
       "        vertical-align: top;\n",
       "    }\n",
       "\n",
       "    .dataframe thead th {\n",
       "        text-align: right;\n",
       "    }\n",
       "</style>\n",
       "<table border=\"1\" class=\"dataframe\">\n",
       "  <thead>\n",
       "    <tr style=\"text-align: right;\">\n",
       "      <th></th>\n",
       "      <th>age</th>\n",
       "      <th>sex</th>\n",
       "      <th>cp</th>\n",
       "      <th>trestbps</th>\n",
       "      <th>chol</th>\n",
       "      <th>fbs</th>\n",
       "      <th>restecg</th>\n",
       "      <th>thalach</th>\n",
       "      <th>exang</th>\n",
       "      <th>oldpeak</th>\n",
       "      <th>slope</th>\n",
       "      <th>ca</th>\n",
       "      <th>thal</th>\n",
       "      <th>target</th>\n",
       "    </tr>\n",
       "  </thead>\n",
       "  <tbody>\n",
       "    <tr>\n",
       "      <th>count</th>\n",
       "      <td>303.000000</td>\n",
       "      <td>303.000000</td>\n",
       "      <td>303.000000</td>\n",
       "      <td>303.000000</td>\n",
       "      <td>303.000000</td>\n",
       "      <td>303.000000</td>\n",
       "      <td>303.000000</td>\n",
       "      <td>303.000000</td>\n",
       "      <td>303.000000</td>\n",
       "      <td>303.000000</td>\n",
       "      <td>303.000000</td>\n",
       "      <td>303.000000</td>\n",
       "      <td>303.000000</td>\n",
       "      <td>303.000000</td>\n",
       "    </tr>\n",
       "    <tr>\n",
       "      <th>mean</th>\n",
       "      <td>54.366337</td>\n",
       "      <td>0.683168</td>\n",
       "      <td>0.966997</td>\n",
       "      <td>131.623762</td>\n",
       "      <td>246.264026</td>\n",
       "      <td>0.148515</td>\n",
       "      <td>0.528053</td>\n",
       "      <td>149.646865</td>\n",
       "      <td>0.326733</td>\n",
       "      <td>1.039604</td>\n",
       "      <td>1.399340</td>\n",
       "      <td>0.729373</td>\n",
       "      <td>2.313531</td>\n",
       "      <td>0.544554</td>\n",
       "    </tr>\n",
       "    <tr>\n",
       "      <th>std</th>\n",
       "      <td>9.082101</td>\n",
       "      <td>0.466011</td>\n",
       "      <td>1.032052</td>\n",
       "      <td>17.538143</td>\n",
       "      <td>51.830751</td>\n",
       "      <td>0.356198</td>\n",
       "      <td>0.525860</td>\n",
       "      <td>22.905161</td>\n",
       "      <td>0.469794</td>\n",
       "      <td>1.161075</td>\n",
       "      <td>0.616226</td>\n",
       "      <td>1.022606</td>\n",
       "      <td>0.612277</td>\n",
       "      <td>0.498835</td>\n",
       "    </tr>\n",
       "    <tr>\n",
       "      <th>min</th>\n",
       "      <td>29.000000</td>\n",
       "      <td>0.000000</td>\n",
       "      <td>0.000000</td>\n",
       "      <td>94.000000</td>\n",
       "      <td>126.000000</td>\n",
       "      <td>0.000000</td>\n",
       "      <td>0.000000</td>\n",
       "      <td>71.000000</td>\n",
       "      <td>0.000000</td>\n",
       "      <td>0.000000</td>\n",
       "      <td>0.000000</td>\n",
       "      <td>0.000000</td>\n",
       "      <td>0.000000</td>\n",
       "      <td>0.000000</td>\n",
       "    </tr>\n",
       "    <tr>\n",
       "      <th>25%</th>\n",
       "      <td>47.500000</td>\n",
       "      <td>0.000000</td>\n",
       "      <td>0.000000</td>\n",
       "      <td>120.000000</td>\n",
       "      <td>211.000000</td>\n",
       "      <td>0.000000</td>\n",
       "      <td>0.000000</td>\n",
       "      <td>133.500000</td>\n",
       "      <td>0.000000</td>\n",
       "      <td>0.000000</td>\n",
       "      <td>1.000000</td>\n",
       "      <td>0.000000</td>\n",
       "      <td>2.000000</td>\n",
       "      <td>0.000000</td>\n",
       "    </tr>\n",
       "    <tr>\n",
       "      <th>50%</th>\n",
       "      <td>55.000000</td>\n",
       "      <td>1.000000</td>\n",
       "      <td>1.000000</td>\n",
       "      <td>130.000000</td>\n",
       "      <td>240.000000</td>\n",
       "      <td>0.000000</td>\n",
       "      <td>1.000000</td>\n",
       "      <td>153.000000</td>\n",
       "      <td>0.000000</td>\n",
       "      <td>0.800000</td>\n",
       "      <td>1.000000</td>\n",
       "      <td>0.000000</td>\n",
       "      <td>2.000000</td>\n",
       "      <td>1.000000</td>\n",
       "    </tr>\n",
       "    <tr>\n",
       "      <th>75%</th>\n",
       "      <td>61.000000</td>\n",
       "      <td>1.000000</td>\n",
       "      <td>2.000000</td>\n",
       "      <td>140.000000</td>\n",
       "      <td>274.500000</td>\n",
       "      <td>0.000000</td>\n",
       "      <td>1.000000</td>\n",
       "      <td>166.000000</td>\n",
       "      <td>1.000000</td>\n",
       "      <td>1.600000</td>\n",
       "      <td>2.000000</td>\n",
       "      <td>1.000000</td>\n",
       "      <td>3.000000</td>\n",
       "      <td>1.000000</td>\n",
       "    </tr>\n",
       "    <tr>\n",
       "      <th>max</th>\n",
       "      <td>77.000000</td>\n",
       "      <td>1.000000</td>\n",
       "      <td>3.000000</td>\n",
       "      <td>200.000000</td>\n",
       "      <td>564.000000</td>\n",
       "      <td>1.000000</td>\n",
       "      <td>2.000000</td>\n",
       "      <td>202.000000</td>\n",
       "      <td>1.000000</td>\n",
       "      <td>6.200000</td>\n",
       "      <td>2.000000</td>\n",
       "      <td>4.000000</td>\n",
       "      <td>3.000000</td>\n",
       "      <td>1.000000</td>\n",
       "    </tr>\n",
       "  </tbody>\n",
       "</table>\n",
       "</div>"
      ],
      "text/plain": [
       "              age         sex          cp    trestbps        chol         fbs  \\\n",
       "count  303.000000  303.000000  303.000000  303.000000  303.000000  303.000000   \n",
       "mean    54.366337    0.683168    0.966997  131.623762  246.264026    0.148515   \n",
       "std      9.082101    0.466011    1.032052   17.538143   51.830751    0.356198   \n",
       "min     29.000000    0.000000    0.000000   94.000000  126.000000    0.000000   \n",
       "25%     47.500000    0.000000    0.000000  120.000000  211.000000    0.000000   \n",
       "50%     55.000000    1.000000    1.000000  130.000000  240.000000    0.000000   \n",
       "75%     61.000000    1.000000    2.000000  140.000000  274.500000    0.000000   \n",
       "max     77.000000    1.000000    3.000000  200.000000  564.000000    1.000000   \n",
       "\n",
       "          restecg     thalach       exang     oldpeak       slope          ca  \\\n",
       "count  303.000000  303.000000  303.000000  303.000000  303.000000  303.000000   \n",
       "mean     0.528053  149.646865    0.326733    1.039604    1.399340    0.729373   \n",
       "std      0.525860   22.905161    0.469794    1.161075    0.616226    1.022606   \n",
       "min      0.000000   71.000000    0.000000    0.000000    0.000000    0.000000   \n",
       "25%      0.000000  133.500000    0.000000    0.000000    1.000000    0.000000   \n",
       "50%      1.000000  153.000000    0.000000    0.800000    1.000000    0.000000   \n",
       "75%      1.000000  166.000000    1.000000    1.600000    2.000000    1.000000   \n",
       "max      2.000000  202.000000    1.000000    6.200000    2.000000    4.000000   \n",
       "\n",
       "             thal      target  \n",
       "count  303.000000  303.000000  \n",
       "mean     2.313531    0.544554  \n",
       "std      0.612277    0.498835  \n",
       "min      0.000000    0.000000  \n",
       "25%      2.000000    0.000000  \n",
       "50%      2.000000    1.000000  \n",
       "75%      3.000000    1.000000  \n",
       "max      3.000000    1.000000  "
      ]
     },
     "execution_count": 5,
     "metadata": {},
     "output_type": "execute_result"
    }
   ],
   "source": [
    "heart_frame.describe()"
   ]
  },
  {
   "cell_type": "code",
   "execution_count": 6,
   "id": "d867e032",
   "metadata": {},
   "outputs": [
    {
     "data": {
      "text/plain": [
       "age         0\n",
       "sex         0\n",
       "cp          0\n",
       "trestbps    0\n",
       "chol        0\n",
       "fbs         0\n",
       "restecg     0\n",
       "thalach     0\n",
       "exang       0\n",
       "oldpeak     0\n",
       "slope       0\n",
       "ca          0\n",
       "thal        0\n",
       "target      0\n",
       "dtype: int64"
      ]
     },
     "execution_count": 6,
     "metadata": {},
     "output_type": "execute_result"
    }
   ],
   "source": [
    "# Nulls\n",
    "heart_frame.isna().sum()"
   ]
  },
  {
   "cell_type": "code",
   "execution_count": 7,
   "id": "5336e7d7",
   "metadata": {
    "scrolled": true
   },
   "outputs": [
    {
     "data": {
      "text/plain": [
       "age           int64\n",
       "sex           int64\n",
       "cp            int64\n",
       "trestbps      int64\n",
       "chol          int64\n",
       "fbs           int64\n",
       "restecg       int64\n",
       "thalach       int64\n",
       "exang         int64\n",
       "oldpeak     float64\n",
       "slope         int64\n",
       "ca            int64\n",
       "thal          int64\n",
       "target        int64\n",
       "dtype: object"
      ]
     },
     "execution_count": 7,
     "metadata": {},
     "output_type": "execute_result"
    }
   ],
   "source": [
    "# Column data types\n",
    "heart_frame.dtypes"
   ]
  },
  {
   "cell_type": "code",
   "execution_count": 8,
   "id": "4eb5704f",
   "metadata": {},
   "outputs": [
    {
     "data": {
      "text/html": [
       "<div>\n",
       "<style scoped>\n",
       "    .dataframe tbody tr th:only-of-type {\n",
       "        vertical-align: middle;\n",
       "    }\n",
       "\n",
       "    .dataframe tbody tr th {\n",
       "        vertical-align: top;\n",
       "    }\n",
       "\n",
       "    .dataframe thead th {\n",
       "        text-align: right;\n",
       "    }\n",
       "</style>\n",
       "<table border=\"1\" class=\"dataframe\">\n",
       "  <thead>\n",
       "    <tr style=\"text-align: right;\">\n",
       "      <th></th>\n",
       "      <th>age</th>\n",
       "      <th>sex</th>\n",
       "      <th>cp</th>\n",
       "      <th>trestbps</th>\n",
       "      <th>chol</th>\n",
       "      <th>fbs</th>\n",
       "      <th>restecg</th>\n",
       "      <th>thalach</th>\n",
       "      <th>exang</th>\n",
       "      <th>oldpeak</th>\n",
       "      <th>slope</th>\n",
       "      <th>ca</th>\n",
       "      <th>thal</th>\n",
       "      <th>target</th>\n",
       "    </tr>\n",
       "  </thead>\n",
       "  <tbody>\n",
       "    <tr>\n",
       "      <th>164</th>\n",
       "      <td>38</td>\n",
       "      <td>1</td>\n",
       "      <td>2</td>\n",
       "      <td>138</td>\n",
       "      <td>175</td>\n",
       "      <td>0</td>\n",
       "      <td>1</td>\n",
       "      <td>173</td>\n",
       "      <td>0</td>\n",
       "      <td>0.0</td>\n",
       "      <td>2</td>\n",
       "      <td>4</td>\n",
       "      <td>2</td>\n",
       "      <td>1</td>\n",
       "    </tr>\n",
       "  </tbody>\n",
       "</table>\n",
       "</div>"
      ],
      "text/plain": [
       "     age  sex  cp  trestbps  chol  fbs  restecg  thalach  exang  oldpeak  \\\n",
       "164   38    1   2       138   175    0        1      173      0      0.0   \n",
       "\n",
       "     slope  ca  thal  target  \n",
       "164      2   4     2       1  "
      ]
     },
     "execution_count": 8,
     "metadata": {},
     "output_type": "execute_result"
    }
   ],
   "source": [
    "# Duplicate checks\n",
    "duplicateRowsDF = heart_frame[heart_frame.duplicated()]\n",
    "duplicateRowsDF"
   ]
  },
  {
   "cell_type": "code",
   "execution_count": 9,
   "id": "db1ea42a",
   "metadata": {},
   "outputs": [
    {
     "data": {
      "text/plain": [
       "<AxesSubplot:>"
      ]
     },
     "execution_count": 9,
     "metadata": {},
     "output_type": "execute_result"
    },
    {
     "data": {
      "image/png": "[encoded data removed]",
      "text/plain": [
       "<Figure size 1080x720 with 2 Axes>"
      ]
     },
     "metadata": {
      "needs_background": "light"
     },
     "output_type": "display_data"
    }
   ],
   "source": [
    "mask = np.triu(np.ones_like(heart_frame.corr()))\n",
    "fig=plt.figure(figsize=(15,10))\n",
    "sb.heatmap(heart_frame.corr(), annot=True, mask=mask)"
   ]
  },
  {
   "cell_type": "markdown",
   "id": "10851b0f",
   "metadata": {},
   "source": [
    "After performing data quality checks, it becomes apparently why this dataset is popular amongst ML engineers due to its cleanliness. It is apparent this set doesn't have any missing values, almost no duplicates, and relatively low correlation amongst the features. Fortunately, this means that there will not be a large amount of data preprocessing needed before machine learning predictions can be made."
   ]
  },
  {
   "cell_type": "markdown",
   "id": "a0af38f4",
   "metadata": {},
   "source": [
    "## Exploratory Data Analysis"
   ]
  },
  {
   "cell_type": "markdown",
   "id": "5545c59a",
   "metadata": {},
   "source": [
    "To build on top of the above quality checks, some amount of visual exploration into the data is necessary to ensure full understanding of the data and that no major data preprocessing nor feature engineering is necessary."
   ]
  },
  {
   "cell_type": "code",
   "execution_count": 10,
   "id": "2033e714",
   "metadata": {
    "scrolled": true
   },
   "outputs": [
    {
     "data": {
      "text/plain": [
       "[Text(0.5, 1.0, 'Age Distribution')]"
      ]
     },
     "execution_count": 10,
     "metadata": {},
     "output_type": "execute_result"
    },
    {
     "data": {
      "image/png": "[encoded data removed]",
      "text/plain": [
       "<Figure size 432x288 with 1 Axes>"
      ]
     },
     "metadata": {
      "needs_background": "light"
     },
     "output_type": "display_data"
    }
   ],
   "source": [
    "sb.histplot(heart_frame['age'], color='limegreen').set(title='Age Distribution')"
   ]
  },
  {
   "cell_type": "code",
   "execution_count": 11,
   "id": "c4a3f9fd",
   "metadata": {},
   "outputs": [
    {
     "data": {
      "text/plain": [
       "[Text(0.5, 1.0, 'Sex Distribution')]"
      ]
     },
     "execution_count": 11,
     "metadata": {},
     "output_type": "execute_result"
    },
    {
     "data": {
      "image/png": "[encoded data removed]",
      "text/plain": [
       "<Figure size 432x288 with 1 Axes>"
      ]
     },
     "metadata": {
      "needs_background": "light"
     },
     "output_type": "display_data"
    }
   ],
   "source": [
    "# note that sex distribution is biased\n",
    "target_counts = heart_frame['sex'].value_counts()\n",
    "sb.barplot(x=target_counts.index, y=target_counts).set(title='Sex Distribution')"
   ]
  },
  {
   "cell_type": "code",
   "execution_count": 12,
   "id": "9d9e835e",
   "metadata": {},
   "outputs": [
    {
     "data": {
      "text/plain": [
       "[Text(0.5, 1.0, 'Chest Pain Distribution')]"
      ]
     },
     "execution_count": 12,
     "metadata": {},
     "output_type": "execute_result"
    },
    {
     "data": {
      "image/png": "[encoded data removed]",
      "text/plain": [
       "<Figure size 432x288 with 1 Axes>"
      ]
     },
     "metadata": {
      "needs_background": "light"
     },
     "output_type": "display_data"
    }
   ],
   "source": [
    "target_counts = heart_frame['cp'].value_counts()\n",
    "sb.barplot(x=target_counts.index, y=target_counts).set(title='Chest Pain Distribution')"
   ]
  },
  {
   "cell_type": "code",
   "execution_count": 13,
   "id": "7f66d16a",
   "metadata": {},
   "outputs": [
    {
     "data": {
      "text/plain": [
       "[Text(0.5, 1.0, 'Resting BP Distribution')]"
      ]
     },
     "execution_count": 13,
     "metadata": {},
     "output_type": "execute_result"
    },
    {
     "data": {
      "image/png": "[encoded data removed]",
      "text/plain": [
       "<Figure size 432x288 with 1 Axes>"
      ]
     },
     "metadata": {
      "needs_background": "light"
     },
     "output_type": "display_data"
    }
   ],
   "source": [
    "sb.histplot(heart_frame['trestbps'], color='limegreen').set(title='Resting BP Distribution')"
   ]
  },
  {
   "cell_type": "code",
   "execution_count": 14,
   "id": "995cbfac",
   "metadata": {},
   "outputs": [
    {
     "data": {
      "text/plain": [
       "[Text(0.5, 1.0, 'Serum Cholestoral Distribution')]"
      ]
     },
     "execution_count": 14,
     "metadata": {},
     "output_type": "execute_result"
    },
    {
     "data": {
      "image/png": "[encoded data removed]",
      "text/plain": [
       "<Figure size 432x288 with 1 Axes>"
      ]
     },
     "metadata": {
      "needs_background": "light"
     },
     "output_type": "display_data"
    }
   ],
   "source": [
    "sb.histplot(heart_frame['chol'], color='limegreen').set(title='Serum Cholestoral Distribution')"
   ]
  },
  {
   "cell_type": "code",
   "execution_count": 15,
   "id": "004191a7",
   "metadata": {},
   "outputs": [
    {
     "data": {
      "text/plain": [
       "[Text(0.5, 1.0, 'Fasting Blood Sugar > 120 mg/dL Distribution')]"
      ]
     },
     "execution_count": 15,
     "metadata": {},
     "output_type": "execute_result"
    },
    {
     "data": {
      "image/png": "[encoded data removed]",
      "text/plain": [
       "<Figure size 432x288 with 1 Axes>"
      ]
     },
     "metadata": {
      "needs_background": "light"
     },
     "output_type": "display_data"
    }
   ],
   "source": [
    "target_counts = heart_frame['fbs'].value_counts()\n",
    "sb.barplot(x=target_counts.index, y=target_counts).set(title='Fasting Blood Sugar > 120 mg/dL Distribution')"
   ]
  },
  {
   "cell_type": "code",
   "execution_count": 16,
   "id": "667da7c1",
   "metadata": {},
   "outputs": [
    {
     "data": {
      "text/plain": [
       "[Text(0.5, 1.0, 'Resting Cardiograph Results')]"
      ]
     },
     "execution_count": 16,
     "metadata": {},
     "output_type": "execute_result"
    },
    {
     "data": {
      "image/png": "[encoded data removed]",
      "text/plain": [
       "<Figure size 432x288 with 1 Axes>"
      ]
     },
     "metadata": {
      "needs_background": "light"
     },
     "output_type": "display_data"
    }
   ],
   "source": [
    "target_counts = heart_frame['restecg'].value_counts()\n",
    "sb.barplot(x=target_counts.index, y=target_counts).set(title='Resting Cardiograph Results')"
   ]
  },
  {
   "cell_type": "code",
   "execution_count": 17,
   "id": "855739cf",
   "metadata": {},
   "outputs": [
    {
     "data": {
      "text/plain": [
       "[Text(0.5, 1.0, 'Max Heart Rate Distribution')]"
      ]
     },
     "execution_count": 17,
     "metadata": {},
     "output_type": "execute_result"
    },
    {
     "data": {
      "image/png": "[encoded data removed]",
      "text/plain": [
       "<Figure size 432x288 with 1 Axes>"
      ]
     },
     "metadata": {
      "needs_background": "light"
     },
     "output_type": "display_data"
    }
   ],
   "source": [
    "sb.histplot(heart_frame['thalach'], color='limegreen').set(title='Max Heart Rate Distribution')"
   ]
  },
  {
   "cell_type": "code",
   "execution_count": 18,
   "id": "a30835e4",
   "metadata": {},
   "outputs": [
    {
     "data": {
      "text/plain": [
       "[Text(0.5, 1.0, 'Exercised Induced Angina Distribution')]"
      ]
     },
     "execution_count": 18,
     "metadata": {},
     "output_type": "execute_result"
    },
    {
     "data": {
      "image/png": "[encoded data removed]",
      "text/plain": [
       "<Figure size 432x288 with 1 Axes>"
      ]
     },
     "metadata": {
      "needs_background": "light"
     },
     "output_type": "display_data"
    }
   ],
   "source": [
    "target_counts = heart_frame['exang'].value_counts()\n",
    "sb.barplot(x=target_counts.index, y=target_counts).set(title='Exercised Induced Angina Distribution')"
   ]
  },
  {
   "cell_type": "code",
   "execution_count": 19,
   "id": "2d35a31b",
   "metadata": {},
   "outputs": [
    {
     "data": {
      "text/plain": [
       "[Text(0.5, 1.0, 'Oldpeak Distribution')]"
      ]
     },
     "execution_count": 19,
     "metadata": {},
     "output_type": "execute_result"
    },
    {
     "data": {
      "image/png": "[encoded data removed]",
      "text/plain": [
       "<Figure size 432x288 with 1 Axes>"
      ]
     },
     "metadata": {
      "needs_background": "light"
     },
     "output_type": "display_data"
    }
   ],
   "source": [
    "sb.histplot(heart_frame['oldpeak'], color='limegreen').set(title='Oldpeak Distribution')"
   ]
  },
  {
   "cell_type": "code",
   "execution_count": 20,
   "id": "d378d1eb",
   "metadata": {},
   "outputs": [
    {
     "data": {
      "text/plain": [
       "[Text(0.5, 1.0, 'ST Slope Distribution')]"
      ]
     },
     "execution_count": 20,
     "metadata": {},
     "output_type": "execute_result"
    },
    {
     "data": {
      "image/png": "[encoded data removed]",
      "text/plain": [
       "<Figure size 432x288 with 1 Axes>"
      ]
     },
     "metadata": {
      "needs_background": "light"
     },
     "output_type": "display_data"
    }
   ],
   "source": [
    "target_counts = heart_frame['slope'].value_counts()\n",
    "sb.barplot(x=target_counts.index, y=target_counts).set(title='ST Slope Distribution')"
   ]
  },
  {
   "cell_type": "code",
   "execution_count": 21,
   "id": "c65fde79",
   "metadata": {},
   "outputs": [
    {
     "data": {
      "text/plain": [
       "[Text(0.5, 1.0, 'Major Vessel Count Distribution')]"
      ]
     },
     "execution_count": 21,
     "metadata": {},
     "output_type": "execute_result"
    },
    {
     "data": {
      "image/png": "[encoded data removed]",
      "text/plain": [
       "<Figure size 432x288 with 1 Axes>"
      ]
     },
     "metadata": {
      "needs_background": "light"
     },
     "output_type": "display_data"
    }
   ],
   "source": [
    "target_counts = heart_frame['ca'].value_counts()\n",
    "sb.barplot(x=target_counts.index, y=target_counts).set(title='Major Vessel Count Distribution')"
   ]
  },
  {
   "cell_type": "code",
   "execution_count": 22,
   "id": "62bb7499",
   "metadata": {},
   "outputs": [
    {
     "data": {
      "text/plain": [
       "[Text(0.5, 1.0, 'Thal Distribution')]"
      ]
     },
     "execution_count": 22,
     "metadata": {},
     "output_type": "execute_result"
    },
    {
     "data": {
      "image/png": "[encoded data removed]",
      "text/plain": [
       "<Figure size 432x288 with 1 Axes>"
      ]
     },
     "metadata": {
      "needs_background": "light"
     },
     "output_type": "display_data"
    }
   ],
   "source": [
    "target_counts = heart_frame['thal'].value_counts()\n",
    "sb.barplot(x=target_counts.index, y=target_counts).set(title='Thal Distribution')"
   ]
  },
  {
   "cell_type": "code",
   "execution_count": 23,
   "id": "f11b62fd",
   "metadata": {},
   "outputs": [
    {
     "data": {
      "text/plain": [
       "[Text(0.5, 1.0, 'Target Distribution')]"
      ]
     },
     "execution_count": 23,
     "metadata": {},
     "output_type": "execute_result"
    },
    {
     "data": {
      "image/png": "[encoded data removed]",
      "text/plain": [
       "<Figure size 432x288 with 1 Axes>"
      ]
     },
     "metadata": {
      "needs_background": "light"
     },
     "output_type": "display_data"
    }
   ],
   "source": [
    "target_counts = heart_frame['target'].value_counts()\n",
    "sb.barplot(x=target_counts.index, y=target_counts).set(title='Target Distribution')"
   ]
  },
  {
   "cell_type": "markdown",
   "id": "3e874b9c",
   "metadata": {},
   "source": [
    "Here we see an interesting blend of normally distributed and skewed and imbalanced features. Note that it seems the categorical features are particularly imbalanced. Fortunately, the target variable is reasonably balanced. As such, machine learning work can proceed accurately with some data scaling and one-hot encoding of the categorical (and non-binary) features."
   ]
  },
  {
   "cell_type": "markdown",
   "id": "98d50121",
   "metadata": {},
   "source": [
    "## Data Preprocessing"
   ]
  },
  {
   "cell_type": "code",
   "execution_count": 24,
   "id": "d19f4a85",
   "metadata": {},
   "outputs": [
    {
     "data": {
      "text/html": [
       "<style type=\"text/css\">\n",
       "</style>\n",
       "<table id=\"T_2bacc_\">\n",
       "  <thead>\n",
       "    <tr>\n",
       "      <th class=\"blank level0\" >&nbsp;</th>\n",
       "      <th class=\"col_heading level0 col0\" >age</th>\n",
       "      <th class=\"col_heading level0 col1\" >sex</th>\n",
       "      <th class=\"col_heading level0 col2\" >trestbps</th>\n",
       "      <th class=\"col_heading level0 col3\" >chol</th>\n",
       "      <th class=\"col_heading level0 col4\" >fbs</th>\n",
       "      <th class=\"col_heading level0 col5\" >thalach</th>\n",
       "      <th class=\"col_heading level0 col6\" >exang</th>\n",
       "      <th class=\"col_heading level0 col7\" >oldpeak</th>\n",
       "      <th class=\"col_heading level0 col8\" >target</th>\n",
       "      <th class=\"col_heading level0 col9\" >cp_0</th>\n",
       "      <th class=\"col_heading level0 col10\" >cp_1</th>\n",
       "      <th class=\"col_heading level0 col11\" >cp_2</th>\n",
       "      <th class=\"col_heading level0 col12\" >cp_3</th>\n",
       "      <th class=\"col_heading level0 col13\" >restecg_0</th>\n",
       "      <th class=\"col_heading level0 col14\" >restecg_1</th>\n",
       "      <th class=\"col_heading level0 col15\" >restecg_2</th>\n",
       "      <th class=\"col_heading level0 col16\" >slope_0</th>\n",
       "      <th class=\"col_heading level0 col17\" >slope_1</th>\n",
       "      <th class=\"col_heading level0 col18\" >slope_2</th>\n",
       "      <th class=\"col_heading level0 col19\" >ca_0</th>\n",
       "      <th class=\"col_heading level0 col20\" >ca_1</th>\n",
       "      <th class=\"col_heading level0 col21\" >ca_2</th>\n",
       "      <th class=\"col_heading level0 col22\" >ca_3</th>\n",
       "      <th class=\"col_heading level0 col23\" >ca_4</th>\n",
       "      <th class=\"col_heading level0 col24\" >thal_0</th>\n",
       "      <th class=\"col_heading level0 col25\" >thal_1</th>\n",
       "      <th class=\"col_heading level0 col26\" >thal_2</th>\n",
       "      <th class=\"col_heading level0 col27\" >thal_3</th>\n",
       "    </tr>\n",
       "  </thead>\n",
       "  <tbody>\n",
       "    <tr>\n",
       "      <th id=\"T_2bacc_level0_row0\" class=\"row_heading level0 row0\" >0</th>\n",
       "      <td id=\"T_2bacc_row0_col0\" class=\"data row0 col0\" >63</td>\n",
       "      <td id=\"T_2bacc_row0_col1\" class=\"data row0 col1\" >1</td>\n",
       "      <td id=\"T_2bacc_row0_col2\" class=\"data row0 col2\" >145</td>\n",
       "      <td id=\"T_2bacc_row0_col3\" class=\"data row0 col3\" >233</td>\n",
       "      <td id=\"T_2bacc_row0_col4\" class=\"data row0 col4\" >1</td>\n",
       "      <td id=\"T_2bacc_row0_col5\" class=\"data row0 col5\" >150</td>\n",
       "      <td id=\"T_2bacc_row0_col6\" class=\"data row0 col6\" >0</td>\n",
       "      <td id=\"T_2bacc_row0_col7\" class=\"data row0 col7\" >2.300000</td>\n",
       "      <td id=\"T_2bacc_row0_col8\" class=\"data row0 col8\" >1</td>\n",
       "      <td id=\"T_2bacc_row0_col9\" class=\"data row0 col9\" >0.000000</td>\n",
       "      <td id=\"T_2bacc_row0_col10\" class=\"data row0 col10\" >0.000000</td>\n",
       "      <td id=\"T_2bacc_row0_col11\" class=\"data row0 col11\" >0.000000</td>\n",
       "      <td id=\"T_2bacc_row0_col12\" class=\"data row0 col12\" >1.000000</td>\n",
       "      <td id=\"T_2bacc_row0_col13\" class=\"data row0 col13\" >1.000000</td>\n",
       "      <td id=\"T_2bacc_row0_col14\" class=\"data row0 col14\" >0.000000</td>\n",
       "      <td id=\"T_2bacc_row0_col15\" class=\"data row0 col15\" >0.000000</td>\n",
       "      <td id=\"T_2bacc_row0_col16\" class=\"data row0 col16\" >1.000000</td>\n",
       "      <td id=\"T_2bacc_row0_col17\" class=\"data row0 col17\" >0.000000</td>\n",
       "      <td id=\"T_2bacc_row0_col18\" class=\"data row0 col18\" >0.000000</td>\n",
       "      <td id=\"T_2bacc_row0_col19\" class=\"data row0 col19\" >1.000000</td>\n",
       "      <td id=\"T_2bacc_row0_col20\" class=\"data row0 col20\" >0.000000</td>\n",
       "      <td id=\"T_2bacc_row0_col21\" class=\"data row0 col21\" >0.000000</td>\n",
       "      <td id=\"T_2bacc_row0_col22\" class=\"data row0 col22\" >0.000000</td>\n",
       "      <td id=\"T_2bacc_row0_col23\" class=\"data row0 col23\" >0.000000</td>\n",
       "      <td id=\"T_2bacc_row0_col24\" class=\"data row0 col24\" >0.000000</td>\n",
       "      <td id=\"T_2bacc_row0_col25\" class=\"data row0 col25\" >1.000000</td>\n",
       "      <td id=\"T_2bacc_row0_col26\" class=\"data row0 col26\" >0.000000</td>\n",
       "      <td id=\"T_2bacc_row0_col27\" class=\"data row0 col27\" >0.000000</td>\n",
       "    </tr>\n",
       "    <tr>\n",
       "      <th id=\"T_2bacc_level0_row1\" class=\"row_heading level0 row1\" >1</th>\n",
       "      <td id=\"T_2bacc_row1_col0\" class=\"data row1 col0\" >37</td>\n",
       "      <td id=\"T_2bacc_row1_col1\" class=\"data row1 col1\" >1</td>\n",
       "      <td id=\"T_2bacc_row1_col2\" class=\"data row1 col2\" >130</td>\n",
       "      <td id=\"T_2bacc_row1_col3\" class=\"data row1 col3\" >250</td>\n",
       "      <td id=\"T_2bacc_row1_col4\" class=\"data row1 col4\" >0</td>\n",
       "      <td id=\"T_2bacc_row1_col5\" class=\"data row1 col5\" >187</td>\n",
       "      <td id=\"T_2bacc_row1_col6\" class=\"data row1 col6\" >0</td>\n",
       "      <td id=\"T_2bacc_row1_col7\" class=\"data row1 col7\" >3.500000</td>\n",
       "      <td id=\"T_2bacc_row1_col8\" class=\"data row1 col8\" >1</td>\n",
       "      <td id=\"T_2bacc_row1_col9\" class=\"data row1 col9\" >0.000000</td>\n",
       "      <td id=\"T_2bacc_row1_col10\" class=\"data row1 col10\" >0.000000</td>\n",
       "      <td id=\"T_2bacc_row1_col11\" class=\"data row1 col11\" >1.000000</td>\n",
       "      <td id=\"T_2bacc_row1_col12\" class=\"data row1 col12\" >0.000000</td>\n",
       "      <td id=\"T_2bacc_row1_col13\" class=\"data row1 col13\" >0.000000</td>\n",
       "      <td id=\"T_2bacc_row1_col14\" class=\"data row1 col14\" >1.000000</td>\n",
       "      <td id=\"T_2bacc_row1_col15\" class=\"data row1 col15\" >0.000000</td>\n",
       "      <td id=\"T_2bacc_row1_col16\" class=\"data row1 col16\" >1.000000</td>\n",
       "      <td id=\"T_2bacc_row1_col17\" class=\"data row1 col17\" >0.000000</td>\n",
       "      <td id=\"T_2bacc_row1_col18\" class=\"data row1 col18\" >0.000000</td>\n",
       "      <td id=\"T_2bacc_row1_col19\" class=\"data row1 col19\" >1.000000</td>\n",
       "      <td id=\"T_2bacc_row1_col20\" class=\"data row1 col20\" >0.000000</td>\n",
       "      <td id=\"T_2bacc_row1_col21\" class=\"data row1 col21\" >0.000000</td>\n",
       "      <td id=\"T_2bacc_row1_col22\" class=\"data row1 col22\" >0.000000</td>\n",
       "      <td id=\"T_2bacc_row1_col23\" class=\"data row1 col23\" >0.000000</td>\n",
       "      <td id=\"T_2bacc_row1_col24\" class=\"data row1 col24\" >0.000000</td>\n",
       "      <td id=\"T_2bacc_row1_col25\" class=\"data row1 col25\" >0.000000</td>\n",
       "      <td id=\"T_2bacc_row1_col26\" class=\"data row1 col26\" >1.000000</td>\n",
       "      <td id=\"T_2bacc_row1_col27\" class=\"data row1 col27\" >0.000000</td>\n",
       "    </tr>\n",
       "    <tr>\n",
       "      <th id=\"T_2bacc_level0_row2\" class=\"row_heading level0 row2\" >2</th>\n",
       "      <td id=\"T_2bacc_row2_col0\" class=\"data row2 col0\" >41</td>\n",
       "      <td id=\"T_2bacc_row2_col1\" class=\"data row2 col1\" >0</td>\n",
       "      <td id=\"T_2bacc_row2_col2\" class=\"data row2 col2\" >130</td>\n",
       "      <td id=\"T_2bacc_row2_col3\" class=\"data row2 col3\" >204</td>\n",
       "      <td id=\"T_2bacc_row2_col4\" class=\"data row2 col4\" >0</td>\n",
       "      <td id=\"T_2bacc_row2_col5\" class=\"data row2 col5\" >172</td>\n",
       "      <td id=\"T_2bacc_row2_col6\" class=\"data row2 col6\" >0</td>\n",
       "      <td id=\"T_2bacc_row2_col7\" class=\"data row2 col7\" >1.400000</td>\n",
       "      <td id=\"T_2bacc_row2_col8\" class=\"data row2 col8\" >1</td>\n",
       "      <td id=\"T_2bacc_row2_col9\" class=\"data row2 col9\" >0.000000</td>\n",
       "      <td id=\"T_2bacc_row2_col10\" class=\"data row2 col10\" >1.000000</td>\n",
       "      <td id=\"T_2bacc_row2_col11\" class=\"data row2 col11\" >0.000000</td>\n",
       "      <td id=\"T_2bacc_row2_col12\" class=\"data row2 col12\" >0.000000</td>\n",
       "      <td id=\"T_2bacc_row2_col13\" class=\"data row2 col13\" >1.000000</td>\n",
       "      <td id=\"T_2bacc_row2_col14\" class=\"data row2 col14\" >0.000000</td>\n",
       "      <td id=\"T_2bacc_row2_col15\" class=\"data row2 col15\" >0.000000</td>\n",
       "      <td id=\"T_2bacc_row2_col16\" class=\"data row2 col16\" >0.000000</td>\n",
       "      <td id=\"T_2bacc_row2_col17\" class=\"data row2 col17\" >0.000000</td>\n",
       "      <td id=\"T_2bacc_row2_col18\" class=\"data row2 col18\" >1.000000</td>\n",
       "      <td id=\"T_2bacc_row2_col19\" class=\"data row2 col19\" >1.000000</td>\n",
       "      <td id=\"T_2bacc_row2_col20\" class=\"data row2 col20\" >0.000000</td>\n",
       "      <td id=\"T_2bacc_row2_col21\" class=\"data row2 col21\" >0.000000</td>\n",
       "      <td id=\"T_2bacc_row2_col22\" class=\"data row2 col22\" >0.000000</td>\n",
       "      <td id=\"T_2bacc_row2_col23\" class=\"data row2 col23\" >0.000000</td>\n",
       "      <td id=\"T_2bacc_row2_col24\" class=\"data row2 col24\" >0.000000</td>\n",
       "      <td id=\"T_2bacc_row2_col25\" class=\"data row2 col25\" >0.000000</td>\n",
       "      <td id=\"T_2bacc_row2_col26\" class=\"data row2 col26\" >1.000000</td>\n",
       "      <td id=\"T_2bacc_row2_col27\" class=\"data row2 col27\" >0.000000</td>\n",
       "    </tr>\n",
       "    <tr>\n",
       "      <th id=\"T_2bacc_level0_row3\" class=\"row_heading level0 row3\" >3</th>\n",
       "      <td id=\"T_2bacc_row3_col0\" class=\"data row3 col0\" >56</td>\n",
       "      <td id=\"T_2bacc_row3_col1\" class=\"data row3 col1\" >1</td>\n",
       "      <td id=\"T_2bacc_row3_col2\" class=\"data row3 col2\" >120</td>\n",
       "      <td id=\"T_2bacc_row3_col3\" class=\"data row3 col3\" >236</td>\n",
       "      <td id=\"T_2bacc_row3_col4\" class=\"data row3 col4\" >0</td>\n",
       "      <td id=\"T_2bacc_row3_col5\" class=\"data row3 col5\" >178</td>\n",
       "      <td id=\"T_2bacc_row3_col6\" class=\"data row3 col6\" >0</td>\n",
       "      <td id=\"T_2bacc_row3_col7\" class=\"data row3 col7\" >0.800000</td>\n",
       "      <td id=\"T_2bacc_row3_col8\" class=\"data row3 col8\" >1</td>\n",
       "      <td id=\"T_2bacc_row3_col9\" class=\"data row3 col9\" >0.000000</td>\n",
       "      <td id=\"T_2bacc_row3_col10\" class=\"data row3 col10\" >1.000000</td>\n",
       "      <td id=\"T_2bacc_row3_col11\" class=\"data row3 col11\" >0.000000</td>\n",
       "      <td id=\"T_2bacc_row3_col12\" class=\"data row3 col12\" >0.000000</td>\n",
       "      <td id=\"T_2bacc_row3_col13\" class=\"data row3 col13\" >0.000000</td>\n",
       "      <td id=\"T_2bacc_row3_col14\" class=\"data row3 col14\" >1.000000</td>\n",
       "      <td id=\"T_2bacc_row3_col15\" class=\"data row3 col15\" >0.000000</td>\n",
       "      <td id=\"T_2bacc_row3_col16\" class=\"data row3 col16\" >0.000000</td>\n",
       "      <td id=\"T_2bacc_row3_col17\" class=\"data row3 col17\" >0.000000</td>\n",
       "      <td id=\"T_2bacc_row3_col18\" class=\"data row3 col18\" >1.000000</td>\n",
       "      <td id=\"T_2bacc_row3_col19\" class=\"data row3 col19\" >1.000000</td>\n",
       "      <td id=\"T_2bacc_row3_col20\" class=\"data row3 col20\" >0.000000</td>\n",
       "      <td id=\"T_2bacc_row3_col21\" class=\"data row3 col21\" >0.000000</td>\n",
       "      <td id=\"T_2bacc_row3_col22\" class=\"data row3 col22\" >0.000000</td>\n",
       "      <td id=\"T_2bacc_row3_col23\" class=\"data row3 col23\" >0.000000</td>\n",
       "      <td id=\"T_2bacc_row3_col24\" class=\"data row3 col24\" >0.000000</td>\n",
       "      <td id=\"T_2bacc_row3_col25\" class=\"data row3 col25\" >0.000000</td>\n",
       "      <td id=\"T_2bacc_row3_col26\" class=\"data row3 col26\" >1.000000</td>\n",
       "      <td id=\"T_2bacc_row3_col27\" class=\"data row3 col27\" >0.000000</td>\n",
       "    </tr>\n",
       "    <tr>\n",
       "      <th id=\"T_2bacc_level0_row4\" class=\"row_heading level0 row4\" >4</th>\n",
       "      <td id=\"T_2bacc_row4_col0\" class=\"data row4 col0\" >57</td>\n",
       "      <td id=\"T_2bacc_row4_col1\" class=\"data row4 col1\" >0</td>\n",
       "      <td id=\"T_2bacc_row4_col2\" class=\"data row4 col2\" >120</td>\n",
       "      <td id=\"T_2bacc_row4_col3\" class=\"data row4 col3\" >354</td>\n",
       "      <td id=\"T_2bacc_row4_col4\" class=\"data row4 col4\" >0</td>\n",
       "      <td id=\"T_2bacc_row4_col5\" class=\"data row4 col5\" >163</td>\n",
       "      <td id=\"T_2bacc_row4_col6\" class=\"data row4 col6\" >1</td>\n",
       "      <td id=\"T_2bacc_row4_col7\" class=\"data row4 col7\" >0.600000</td>\n",
       "      <td id=\"T_2bacc_row4_col8\" class=\"data row4 col8\" >1</td>\n",
       "      <td id=\"T_2bacc_row4_col9\" class=\"data row4 col9\" >1.000000</td>\n",
       "      <td id=\"T_2bacc_row4_col10\" class=\"data row4 col10\" >0.000000</td>\n",
       "      <td id=\"T_2bacc_row4_col11\" class=\"data row4 col11\" >0.000000</td>\n",
       "      <td id=\"T_2bacc_row4_col12\" class=\"data row4 col12\" >0.000000</td>\n",
       "      <td id=\"T_2bacc_row4_col13\" class=\"data row4 col13\" >0.000000</td>\n",
       "      <td id=\"T_2bacc_row4_col14\" class=\"data row4 col14\" >1.000000</td>\n",
       "      <td id=\"T_2bacc_row4_col15\" class=\"data row4 col15\" >0.000000</td>\n",
       "      <td id=\"T_2bacc_row4_col16\" class=\"data row4 col16\" >0.000000</td>\n",
       "      <td id=\"T_2bacc_row4_col17\" class=\"data row4 col17\" >0.000000</td>\n",
       "      <td id=\"T_2bacc_row4_col18\" class=\"data row4 col18\" >1.000000</td>\n",
       "      <td id=\"T_2bacc_row4_col19\" class=\"data row4 col19\" >1.000000</td>\n",
       "      <td id=\"T_2bacc_row4_col20\" class=\"data row4 col20\" >0.000000</td>\n",
       "      <td id=\"T_2bacc_row4_col21\" class=\"data row4 col21\" >0.000000</td>\n",
       "      <td id=\"T_2bacc_row4_col22\" class=\"data row4 col22\" >0.000000</td>\n",
       "      <td id=\"T_2bacc_row4_col23\" class=\"data row4 col23\" >0.000000</td>\n",
       "      <td id=\"T_2bacc_row4_col24\" class=\"data row4 col24\" >0.000000</td>\n",
       "      <td id=\"T_2bacc_row4_col25\" class=\"data row4 col25\" >0.000000</td>\n",
       "      <td id=\"T_2bacc_row4_col26\" class=\"data row4 col26\" >1.000000</td>\n",
       "      <td id=\"T_2bacc_row4_col27\" class=\"data row4 col27\" >0.000000</td>\n",
       "    </tr>\n",
       "    <tr>\n",
       "      <th id=\"T_2bacc_level0_row5\" class=\"row_heading level0 row5\" >5</th>\n",
       "      <td id=\"T_2bacc_row5_col0\" class=\"data row5 col0\" >57</td>\n",
       "      <td id=\"T_2bacc_row5_col1\" class=\"data row5 col1\" >1</td>\n",
       "      <td id=\"T_2bacc_row5_col2\" class=\"data row5 col2\" >140</td>\n",
       "      <td id=\"T_2bacc_row5_col3\" class=\"data row5 col3\" >192</td>\n",
       "      <td id=\"T_2bacc_row5_col4\" class=\"data row5 col4\" >0</td>\n",
       "      <td id=\"T_2bacc_row5_col5\" class=\"data row5 col5\" >148</td>\n",
       "      <td id=\"T_2bacc_row5_col6\" class=\"data row5 col6\" >0</td>\n",
       "      <td id=\"T_2bacc_row5_col7\" class=\"data row5 col7\" >0.400000</td>\n",
       "      <td id=\"T_2bacc_row5_col8\" class=\"data row5 col8\" >1</td>\n",
       "      <td id=\"T_2bacc_row5_col9\" class=\"data row5 col9\" >1.000000</td>\n",
       "      <td id=\"T_2bacc_row5_col10\" class=\"data row5 col10\" >0.000000</td>\n",
       "      <td id=\"T_2bacc_row5_col11\" class=\"data row5 col11\" >0.000000</td>\n",
       "      <td id=\"T_2bacc_row5_col12\" class=\"data row5 col12\" >0.000000</td>\n",
       "      <td id=\"T_2bacc_row5_col13\" class=\"data row5 col13\" >0.000000</td>\n",
       "      <td id=\"T_2bacc_row5_col14\" class=\"data row5 col14\" >1.000000</td>\n",
       "      <td id=\"T_2bacc_row5_col15\" class=\"data row5 col15\" >0.000000</td>\n",
       "      <td id=\"T_2bacc_row5_col16\" class=\"data row5 col16\" >0.000000</td>\n",
       "      <td id=\"T_2bacc_row5_col17\" class=\"data row5 col17\" >1.000000</td>\n",
       "      <td id=\"T_2bacc_row5_col18\" class=\"data row5 col18\" >0.000000</td>\n",
       "      <td id=\"T_2bacc_row5_col19\" class=\"data row5 col19\" >1.000000</td>\n",
       "      <td id=\"T_2bacc_row5_col20\" class=\"data row5 col20\" >0.000000</td>\n",
       "      <td id=\"T_2bacc_row5_col21\" class=\"data row5 col21\" >0.000000</td>\n",
       "      <td id=\"T_2bacc_row5_col22\" class=\"data row5 col22\" >0.000000</td>\n",
       "      <td id=\"T_2bacc_row5_col23\" class=\"data row5 col23\" >0.000000</td>\n",
       "      <td id=\"T_2bacc_row5_col24\" class=\"data row5 col24\" >0.000000</td>\n",
       "      <td id=\"T_2bacc_row5_col25\" class=\"data row5 col25\" >1.000000</td>\n",
       "      <td id=\"T_2bacc_row5_col26\" class=\"data row5 col26\" >0.000000</td>\n",
       "      <td id=\"T_2bacc_row5_col27\" class=\"data row5 col27\" >0.000000</td>\n",
       "    </tr>\n",
       "    <tr>\n",
       "      <th id=\"T_2bacc_level0_row6\" class=\"row_heading level0 row6\" >6</th>\n",
       "      <td id=\"T_2bacc_row6_col0\" class=\"data row6 col0\" >56</td>\n",
       "      <td id=\"T_2bacc_row6_col1\" class=\"data row6 col1\" >0</td>\n",
       "      <td id=\"T_2bacc_row6_col2\" class=\"data row6 col2\" >140</td>\n",
       "      <td id=\"T_2bacc_row6_col3\" class=\"data row6 col3\" >294</td>\n",
       "      <td id=\"T_2bacc_row6_col4\" class=\"data row6 col4\" >0</td>\n",
       "      <td id=\"T_2bacc_row6_col5\" class=\"data row6 col5\" >153</td>\n",
       "      <td id=\"T_2bacc_row6_col6\" class=\"data row6 col6\" >0</td>\n",
       "      <td id=\"T_2bacc_row6_col7\" class=\"data row6 col7\" >1.300000</td>\n",
       "      <td id=\"T_2bacc_row6_col8\" class=\"data row6 col8\" >1</td>\n",
       "      <td id=\"T_2bacc_row6_col9\" class=\"data row6 col9\" >0.000000</td>\n",
       "      <td id=\"T_2bacc_row6_col10\" class=\"data row6 col10\" >1.000000</td>\n",
       "      <td id=\"T_2bacc_row6_col11\" class=\"data row6 col11\" >0.000000</td>\n",
       "      <td id=\"T_2bacc_row6_col12\" class=\"data row6 col12\" >0.000000</td>\n",
       "      <td id=\"T_2bacc_row6_col13\" class=\"data row6 col13\" >1.000000</td>\n",
       "      <td id=\"T_2bacc_row6_col14\" class=\"data row6 col14\" >0.000000</td>\n",
       "      <td id=\"T_2bacc_row6_col15\" class=\"data row6 col15\" >0.000000</td>\n",
       "      <td id=\"T_2bacc_row6_col16\" class=\"data row6 col16\" >0.000000</td>\n",
       "      <td id=\"T_2bacc_row6_col17\" class=\"data row6 col17\" >1.000000</td>\n",
       "      <td id=\"T_2bacc_row6_col18\" class=\"data row6 col18\" >0.000000</td>\n",
       "      <td id=\"T_2bacc_row6_col19\" class=\"data row6 col19\" >1.000000</td>\n",
       "      <td id=\"T_2bacc_row6_col20\" class=\"data row6 col20\" >0.000000</td>\n",
       "      <td id=\"T_2bacc_row6_col21\" class=\"data row6 col21\" >0.000000</td>\n",
       "      <td id=\"T_2bacc_row6_col22\" class=\"data row6 col22\" >0.000000</td>\n",
       "      <td id=\"T_2bacc_row6_col23\" class=\"data row6 col23\" >0.000000</td>\n",
       "      <td id=\"T_2bacc_row6_col24\" class=\"data row6 col24\" >0.000000</td>\n",
       "      <td id=\"T_2bacc_row6_col25\" class=\"data row6 col25\" >0.000000</td>\n",
       "      <td id=\"T_2bacc_row6_col26\" class=\"data row6 col26\" >1.000000</td>\n",
       "      <td id=\"T_2bacc_row6_col27\" class=\"data row6 col27\" >0.000000</td>\n",
       "    </tr>\n",
       "    <tr>\n",
       "      <th id=\"T_2bacc_level0_row7\" class=\"row_heading level0 row7\" >7</th>\n",
       "      <td id=\"T_2bacc_row7_col0\" class=\"data row7 col0\" >44</td>\n",
       "      <td id=\"T_2bacc_row7_col1\" class=\"data row7 col1\" >1</td>\n",
       "      <td id=\"T_2bacc_row7_col2\" class=\"data row7 col2\" >120</td>\n",
       "      <td id=\"T_2bacc_row7_col3\" class=\"data row7 col3\" >263</td>\n",
       "      <td id=\"T_2bacc_row7_col4\" class=\"data row7 col4\" >0</td>\n",
       "      <td id=\"T_2bacc_row7_col5\" class=\"data row7 col5\" >173</td>\n",
       "      <td id=\"T_2bacc_row7_col6\" class=\"data row7 col6\" >0</td>\n",
       "      <td id=\"T_2bacc_row7_col7\" class=\"data row7 col7\" >0.000000</td>\n",
       "      <td id=\"T_2bacc_row7_col8\" class=\"data row7 col8\" >1</td>\n",
       "      <td id=\"T_2bacc_row7_col9\" class=\"data row7 col9\" >0.000000</td>\n",
       "      <td id=\"T_2bacc_row7_col10\" class=\"data row7 col10\" >1.000000</td>\n",
       "      <td id=\"T_2bacc_row7_col11\" class=\"data row7 col11\" >0.000000</td>\n",
       "      <td id=\"T_2bacc_row7_col12\" class=\"data row7 col12\" >0.000000</td>\n",
       "      <td id=\"T_2bacc_row7_col13\" class=\"data row7 col13\" >0.000000</td>\n",
       "      <td id=\"T_2bacc_row7_col14\" class=\"data row7 col14\" >1.000000</td>\n",
       "      <td id=\"T_2bacc_row7_col15\" class=\"data row7 col15\" >0.000000</td>\n",
       "      <td id=\"T_2bacc_row7_col16\" class=\"data row7 col16\" >0.000000</td>\n",
       "      <td id=\"T_2bacc_row7_col17\" class=\"data row7 col17\" >0.000000</td>\n",
       "      <td id=\"T_2bacc_row7_col18\" class=\"data row7 col18\" >1.000000</td>\n",
       "      <td id=\"T_2bacc_row7_col19\" class=\"data row7 col19\" >1.000000</td>\n",
       "      <td id=\"T_2bacc_row7_col20\" class=\"data row7 col20\" >0.000000</td>\n",
       "      <td id=\"T_2bacc_row7_col21\" class=\"data row7 col21\" >0.000000</td>\n",
       "      <td id=\"T_2bacc_row7_col22\" class=\"data row7 col22\" >0.000000</td>\n",
       "      <td id=\"T_2bacc_row7_col23\" class=\"data row7 col23\" >0.000000</td>\n",
       "      <td id=\"T_2bacc_row7_col24\" class=\"data row7 col24\" >0.000000</td>\n",
       "      <td id=\"T_2bacc_row7_col25\" class=\"data row7 col25\" >0.000000</td>\n",
       "      <td id=\"T_2bacc_row7_col26\" class=\"data row7 col26\" >0.000000</td>\n",
       "      <td id=\"T_2bacc_row7_col27\" class=\"data row7 col27\" >1.000000</td>\n",
       "    </tr>\n",
       "    <tr>\n",
       "      <th id=\"T_2bacc_level0_row8\" class=\"row_heading level0 row8\" >8</th>\n",
       "      <td id=\"T_2bacc_row8_col0\" class=\"data row8 col0\" >52</td>\n",
       "      <td id=\"T_2bacc_row8_col1\" class=\"data row8 col1\" >1</td>\n",
       "      <td id=\"T_2bacc_row8_col2\" class=\"data row8 col2\" >172</td>\n",
       "      <td id=\"T_2bacc_row8_col3\" class=\"data row8 col3\" >199</td>\n",
       "      <td id=\"T_2bacc_row8_col4\" class=\"data row8 col4\" >1</td>\n",
       "      <td id=\"T_2bacc_row8_col5\" class=\"data row8 col5\" >162</td>\n",
       "      <td id=\"T_2bacc_row8_col6\" class=\"data row8 col6\" >0</td>\n",
       "      <td id=\"T_2bacc_row8_col7\" class=\"data row8 col7\" >0.500000</td>\n",
       "      <td id=\"T_2bacc_row8_col8\" class=\"data row8 col8\" >1</td>\n",
       "      <td id=\"T_2bacc_row8_col9\" class=\"data row8 col9\" >0.000000</td>\n",
       "      <td id=\"T_2bacc_row8_col10\" class=\"data row8 col10\" >0.000000</td>\n",
       "      <td id=\"T_2bacc_row8_col11\" class=\"data row8 col11\" >1.000000</td>\n",
       "      <td id=\"T_2bacc_row8_col12\" class=\"data row8 col12\" >0.000000</td>\n",
       "      <td id=\"T_2bacc_row8_col13\" class=\"data row8 col13\" >0.000000</td>\n",
       "      <td id=\"T_2bacc_row8_col14\" class=\"data row8 col14\" >1.000000</td>\n",
       "      <td id=\"T_2bacc_row8_col15\" class=\"data row8 col15\" >0.000000</td>\n",
       "      <td id=\"T_2bacc_row8_col16\" class=\"data row8 col16\" >0.000000</td>\n",
       "      <td id=\"T_2bacc_row8_col17\" class=\"data row8 col17\" >0.000000</td>\n",
       "      <td id=\"T_2bacc_row8_col18\" class=\"data row8 col18\" >1.000000</td>\n",
       "      <td id=\"T_2bacc_row8_col19\" class=\"data row8 col19\" >1.000000</td>\n",
       "      <td id=\"T_2bacc_row8_col20\" class=\"data row8 col20\" >0.000000</td>\n",
       "      <td id=\"T_2bacc_row8_col21\" class=\"data row8 col21\" >0.000000</td>\n",
       "      <td id=\"T_2bacc_row8_col22\" class=\"data row8 col22\" >0.000000</td>\n",
       "      <td id=\"T_2bacc_row8_col23\" class=\"data row8 col23\" >0.000000</td>\n",
       "      <td id=\"T_2bacc_row8_col24\" class=\"data row8 col24\" >0.000000</td>\n",
       "      <td id=\"T_2bacc_row8_col25\" class=\"data row8 col25\" >0.000000</td>\n",
       "      <td id=\"T_2bacc_row8_col26\" class=\"data row8 col26\" >0.000000</td>\n",
       "      <td id=\"T_2bacc_row8_col27\" class=\"data row8 col27\" >1.000000</td>\n",
       "    </tr>\n",
       "    <tr>\n",
       "      <th id=\"T_2bacc_level0_row9\" class=\"row_heading level0 row9\" >9</th>\n",
       "      <td id=\"T_2bacc_row9_col0\" class=\"data row9 col0\" >57</td>\n",
       "      <td id=\"T_2bacc_row9_col1\" class=\"data row9 col1\" >1</td>\n",
       "      <td id=\"T_2bacc_row9_col2\" class=\"data row9 col2\" >150</td>\n",
       "      <td id=\"T_2bacc_row9_col3\" class=\"data row9 col3\" >168</td>\n",
       "      <td id=\"T_2bacc_row9_col4\" class=\"data row9 col4\" >0</td>\n",
       "      <td id=\"T_2bacc_row9_col5\" class=\"data row9 col5\" >174</td>\n",
       "      <td id=\"T_2bacc_row9_col6\" class=\"data row9 col6\" >0</td>\n",
       "      <td id=\"T_2bacc_row9_col7\" class=\"data row9 col7\" >1.600000</td>\n",
       "      <td id=\"T_2bacc_row9_col8\" class=\"data row9 col8\" >1</td>\n",
       "      <td id=\"T_2bacc_row9_col9\" class=\"data row9 col9\" >0.000000</td>\n",
       "      <td id=\"T_2bacc_row9_col10\" class=\"data row9 col10\" >0.000000</td>\n",
       "      <td id=\"T_2bacc_row9_col11\" class=\"data row9 col11\" >1.000000</td>\n",
       "      <td id=\"T_2bacc_row9_col12\" class=\"data row9 col12\" >0.000000</td>\n",
       "      <td id=\"T_2bacc_row9_col13\" class=\"data row9 col13\" >0.000000</td>\n",
       "      <td id=\"T_2bacc_row9_col14\" class=\"data row9 col14\" >1.000000</td>\n",
       "      <td id=\"T_2bacc_row9_col15\" class=\"data row9 col15\" >0.000000</td>\n",
       "      <td id=\"T_2bacc_row9_col16\" class=\"data row9 col16\" >0.000000</td>\n",
       "      <td id=\"T_2bacc_row9_col17\" class=\"data row9 col17\" >0.000000</td>\n",
       "      <td id=\"T_2bacc_row9_col18\" class=\"data row9 col18\" >1.000000</td>\n",
       "      <td id=\"T_2bacc_row9_col19\" class=\"data row9 col19\" >1.000000</td>\n",
       "      <td id=\"T_2bacc_row9_col20\" class=\"data row9 col20\" >0.000000</td>\n",
       "      <td id=\"T_2bacc_row9_col21\" class=\"data row9 col21\" >0.000000</td>\n",
       "      <td id=\"T_2bacc_row9_col22\" class=\"data row9 col22\" >0.000000</td>\n",
       "      <td id=\"T_2bacc_row9_col23\" class=\"data row9 col23\" >0.000000</td>\n",
       "      <td id=\"T_2bacc_row9_col24\" class=\"data row9 col24\" >0.000000</td>\n",
       "      <td id=\"T_2bacc_row9_col25\" class=\"data row9 col25\" >0.000000</td>\n",
       "      <td id=\"T_2bacc_row9_col26\" class=\"data row9 col26\" >1.000000</td>\n",
       "      <td id=\"T_2bacc_row9_col27\" class=\"data row9 col27\" >0.000000</td>\n",
       "    </tr>\n",
       "    <tr>\n",
       "      <th id=\"T_2bacc_level0_row10\" class=\"row_heading level0 row10\" >10</th>\n",
       "      <td id=\"T_2bacc_row10_col0\" class=\"data row10 col0\" >54</td>\n",
       "      <td id=\"T_2bacc_row10_col1\" class=\"data row10 col1\" >1</td>\n",
       "      <td id=\"T_2bacc_row10_col2\" class=\"data row10 col2\" >140</td>\n",
       "      <td id=\"T_2bacc_row10_col3\" class=\"data row10 col3\" >239</td>\n",
       "      <td id=\"T_2bacc_row10_col4\" class=\"data row10 col4\" >0</td>\n",
       "      <td id=\"T_2bacc_row10_col5\" class=\"data row10 col5\" >160</td>\n",
       "      <td id=\"T_2bacc_row10_col6\" class=\"data row10 col6\" >0</td>\n",
       "      <td id=\"T_2bacc_row10_col7\" class=\"data row10 col7\" >1.200000</td>\n",
       "      <td id=\"T_2bacc_row10_col8\" class=\"data row10 col8\" >1</td>\n",
       "      <td id=\"T_2bacc_row10_col9\" class=\"data row10 col9\" >1.000000</td>\n",
       "      <td id=\"T_2bacc_row10_col10\" class=\"data row10 col10\" >0.000000</td>\n",
       "      <td id=\"T_2bacc_row10_col11\" class=\"data row10 col11\" >0.000000</td>\n",
       "      <td id=\"T_2bacc_row10_col12\" class=\"data row10 col12\" >0.000000</td>\n",
       "      <td id=\"T_2bacc_row10_col13\" class=\"data row10 col13\" >0.000000</td>\n",
       "      <td id=\"T_2bacc_row10_col14\" class=\"data row10 col14\" >1.000000</td>\n",
       "      <td id=\"T_2bacc_row10_col15\" class=\"data row10 col15\" >0.000000</td>\n",
       "      <td id=\"T_2bacc_row10_col16\" class=\"data row10 col16\" >0.000000</td>\n",
       "      <td id=\"T_2bacc_row10_col17\" class=\"data row10 col17\" >0.000000</td>\n",
       "      <td id=\"T_2bacc_row10_col18\" class=\"data row10 col18\" >1.000000</td>\n",
       "      <td id=\"T_2bacc_row10_col19\" class=\"data row10 col19\" >1.000000</td>\n",
       "      <td id=\"T_2bacc_row10_col20\" class=\"data row10 col20\" >0.000000</td>\n",
       "      <td id=\"T_2bacc_row10_col21\" class=\"data row10 col21\" >0.000000</td>\n",
       "      <td id=\"T_2bacc_row10_col22\" class=\"data row10 col22\" >0.000000</td>\n",
       "      <td id=\"T_2bacc_row10_col23\" class=\"data row10 col23\" >0.000000</td>\n",
       "      <td id=\"T_2bacc_row10_col24\" class=\"data row10 col24\" >0.000000</td>\n",
       "      <td id=\"T_2bacc_row10_col25\" class=\"data row10 col25\" >0.000000</td>\n",
       "      <td id=\"T_2bacc_row10_col26\" class=\"data row10 col26\" >1.000000</td>\n",
       "      <td id=\"T_2bacc_row10_col27\" class=\"data row10 col27\" >0.000000</td>\n",
       "    </tr>\n",
       "    <tr>\n",
       "      <th id=\"T_2bacc_level0_row11\" class=\"row_heading level0 row11\" >11</th>\n",
       "      <td id=\"T_2bacc_row11_col0\" class=\"data row11 col0\" >48</td>\n",
       "      <td id=\"T_2bacc_row11_col1\" class=\"data row11 col1\" >0</td>\n",
       "      <td id=\"T_2bacc_row11_col2\" class=\"data row11 col2\" >130</td>\n",
       "      <td id=\"T_2bacc_row11_col3\" class=\"data row11 col3\" >275</td>\n",
       "      <td id=\"T_2bacc_row11_col4\" class=\"data row11 col4\" >0</td>\n",
       "      <td id=\"T_2bacc_row11_col5\" class=\"data row11 col5\" >139</td>\n",
       "      <td id=\"T_2bacc_row11_col6\" class=\"data row11 col6\" >0</td>\n",
       "      <td id=\"T_2bacc_row11_col7\" class=\"data row11 col7\" >0.200000</td>\n",
       "      <td id=\"T_2bacc_row11_col8\" class=\"data row11 col8\" >1</td>\n",
       "      <td id=\"T_2bacc_row11_col9\" class=\"data row11 col9\" >0.000000</td>\n",
       "      <td id=\"T_2bacc_row11_col10\" class=\"data row11 col10\" >0.000000</td>\n",
       "      <td id=\"T_2bacc_row11_col11\" class=\"data row11 col11\" >1.000000</td>\n",
       "      <td id=\"T_2bacc_row11_col12\" class=\"data row11 col12\" >0.000000</td>\n",
       "      <td id=\"T_2bacc_row11_col13\" class=\"data row11 col13\" >0.000000</td>\n",
       "      <td id=\"T_2bacc_row11_col14\" class=\"data row11 col14\" >1.000000</td>\n",
       "      <td id=\"T_2bacc_row11_col15\" class=\"data row11 col15\" >0.000000</td>\n",
       "      <td id=\"T_2bacc_row11_col16\" class=\"data row11 col16\" >0.000000</td>\n",
       "      <td id=\"T_2bacc_row11_col17\" class=\"data row11 col17\" >0.000000</td>\n",
       "      <td id=\"T_2bacc_row11_col18\" class=\"data row11 col18\" >1.000000</td>\n",
       "      <td id=\"T_2bacc_row11_col19\" class=\"data row11 col19\" >1.000000</td>\n",
       "      <td id=\"T_2bacc_row11_col20\" class=\"data row11 col20\" >0.000000</td>\n",
       "      <td id=\"T_2bacc_row11_col21\" class=\"data row11 col21\" >0.000000</td>\n",
       "      <td id=\"T_2bacc_row11_col22\" class=\"data row11 col22\" >0.000000</td>\n",
       "      <td id=\"T_2bacc_row11_col23\" class=\"data row11 col23\" >0.000000</td>\n",
       "      <td id=\"T_2bacc_row11_col24\" class=\"data row11 col24\" >0.000000</td>\n",
       "      <td id=\"T_2bacc_row11_col25\" class=\"data row11 col25\" >0.000000</td>\n",
       "      <td id=\"T_2bacc_row11_col26\" class=\"data row11 col26\" >1.000000</td>\n",
       "      <td id=\"T_2bacc_row11_col27\" class=\"data row11 col27\" >0.000000</td>\n",
       "    </tr>\n",
       "    <tr>\n",
       "      <th id=\"T_2bacc_level0_row12\" class=\"row_heading level0 row12\" >12</th>\n",
       "      <td id=\"T_2bacc_row12_col0\" class=\"data row12 col0\" >49</td>\n",
       "      <td id=\"T_2bacc_row12_col1\" class=\"data row12 col1\" >1</td>\n",
       "      <td id=\"T_2bacc_row12_col2\" class=\"data row12 col2\" >130</td>\n",
       "      <td id=\"T_2bacc_row12_col3\" class=\"data row12 col3\" >266</td>\n",
       "      <td id=\"T_2bacc_row12_col4\" class=\"data row12 col4\" >0</td>\n",
       "      <td id=\"T_2bacc_row12_col5\" class=\"data row12 col5\" >171</td>\n",
       "      <td id=\"T_2bacc_row12_col6\" class=\"data row12 col6\" >0</td>\n",
       "      <td id=\"T_2bacc_row12_col7\" class=\"data row12 col7\" >0.600000</td>\n",
       "      <td id=\"T_2bacc_row12_col8\" class=\"data row12 col8\" >1</td>\n",
       "      <td id=\"T_2bacc_row12_col9\" class=\"data row12 col9\" >0.000000</td>\n",
       "      <td id=\"T_2bacc_row12_col10\" class=\"data row12 col10\" >1.000000</td>\n",
       "      <td id=\"T_2bacc_row12_col11\" class=\"data row12 col11\" >0.000000</td>\n",
       "      <td id=\"T_2bacc_row12_col12\" class=\"data row12 col12\" >0.000000</td>\n",
       "      <td id=\"T_2bacc_row12_col13\" class=\"data row12 col13\" >0.000000</td>\n",
       "      <td id=\"T_2bacc_row12_col14\" class=\"data row12 col14\" >1.000000</td>\n",
       "      <td id=\"T_2bacc_row12_col15\" class=\"data row12 col15\" >0.000000</td>\n",
       "      <td id=\"T_2bacc_row12_col16\" class=\"data row12 col16\" >0.000000</td>\n",
       "      <td id=\"T_2bacc_row12_col17\" class=\"data row12 col17\" >0.000000</td>\n",
       "      <td id=\"T_2bacc_row12_col18\" class=\"data row12 col18\" >1.000000</td>\n",
       "      <td id=\"T_2bacc_row12_col19\" class=\"data row12 col19\" >1.000000</td>\n",
       "      <td id=\"T_2bacc_row12_col20\" class=\"data row12 col20\" >0.000000</td>\n",
       "      <td id=\"T_2bacc_row12_col21\" class=\"data row12 col21\" >0.000000</td>\n",
       "      <td id=\"T_2bacc_row12_col22\" class=\"data row12 col22\" >0.000000</td>\n",
       "      <td id=\"T_2bacc_row12_col23\" class=\"data row12 col23\" >0.000000</td>\n",
       "      <td id=\"T_2bacc_row12_col24\" class=\"data row12 col24\" >0.000000</td>\n",
       "      <td id=\"T_2bacc_row12_col25\" class=\"data row12 col25\" >0.000000</td>\n",
       "      <td id=\"T_2bacc_row12_col26\" class=\"data row12 col26\" >1.000000</td>\n",
       "      <td id=\"T_2bacc_row12_col27\" class=\"data row12 col27\" >0.000000</td>\n",
       "    </tr>\n",
       "    <tr>\n",
       "      <th id=\"T_2bacc_level0_row13\" class=\"row_heading level0 row13\" >13</th>\n",
       "      <td id=\"T_2bacc_row13_col0\" class=\"data row13 col0\" >64</td>\n",
       "      <td id=\"T_2bacc_row13_col1\" class=\"data row13 col1\" >1</td>\n",
       "      <td id=\"T_2bacc_row13_col2\" class=\"data row13 col2\" >110</td>\n",
       "      <td id=\"T_2bacc_row13_col3\" class=\"data row13 col3\" >211</td>\n",
       "      <td id=\"T_2bacc_row13_col4\" class=\"data row13 col4\" >0</td>\n",
       "      <td id=\"T_2bacc_row13_col5\" class=\"data row13 col5\" >144</td>\n",
       "      <td id=\"T_2bacc_row13_col6\" class=\"data row13 col6\" >1</td>\n",
       "      <td id=\"T_2bacc_row13_col7\" class=\"data row13 col7\" >1.800000</td>\n",
       "      <td id=\"T_2bacc_row13_col8\" class=\"data row13 col8\" >1</td>\n",
       "      <td id=\"T_2bacc_row13_col9\" class=\"data row13 col9\" >0.000000</td>\n",
       "      <td id=\"T_2bacc_row13_col10\" class=\"data row13 col10\" >0.000000</td>\n",
       "      <td id=\"T_2bacc_row13_col11\" class=\"data row13 col11\" >0.000000</td>\n",
       "      <td id=\"T_2bacc_row13_col12\" class=\"data row13 col12\" >1.000000</td>\n",
       "      <td id=\"T_2bacc_row13_col13\" class=\"data row13 col13\" >1.000000</td>\n",
       "      <td id=\"T_2bacc_row13_col14\" class=\"data row13 col14\" >0.000000</td>\n",
       "      <td id=\"T_2bacc_row13_col15\" class=\"data row13 col15\" >0.000000</td>\n",
       "      <td id=\"T_2bacc_row13_col16\" class=\"data row13 col16\" >0.000000</td>\n",
       "      <td id=\"T_2bacc_row13_col17\" class=\"data row13 col17\" >1.000000</td>\n",
       "      <td id=\"T_2bacc_row13_col18\" class=\"data row13 col18\" >0.000000</td>\n",
       "      <td id=\"T_2bacc_row13_col19\" class=\"data row13 col19\" >1.000000</td>\n",
       "      <td id=\"T_2bacc_row13_col20\" class=\"data row13 col20\" >0.000000</td>\n",
       "      <td id=\"T_2bacc_row13_col21\" class=\"data row13 col21\" >0.000000</td>\n",
       "      <td id=\"T_2bacc_row13_col22\" class=\"data row13 col22\" >0.000000</td>\n",
       "      <td id=\"T_2bacc_row13_col23\" class=\"data row13 col23\" >0.000000</td>\n",
       "      <td id=\"T_2bacc_row13_col24\" class=\"data row13 col24\" >0.000000</td>\n",
       "      <td id=\"T_2bacc_row13_col25\" class=\"data row13 col25\" >0.000000</td>\n",
       "      <td id=\"T_2bacc_row13_col26\" class=\"data row13 col26\" >1.000000</td>\n",
       "      <td id=\"T_2bacc_row13_col27\" class=\"data row13 col27\" >0.000000</td>\n",
       "    </tr>\n",
       "    <tr>\n",
       "      <th id=\"T_2bacc_level0_row14\" class=\"row_heading level0 row14\" >14</th>\n",
       "      <td id=\"T_2bacc_row14_col0\" class=\"data row14 col0\" >58</td>\n",
       "      <td id=\"T_2bacc_row14_col1\" class=\"data row14 col1\" >0</td>\n",
       "      <td id=\"T_2bacc_row14_col2\" class=\"data row14 col2\" >150</td>\n",
       "      <td id=\"T_2bacc_row14_col3\" class=\"data row14 col3\" >283</td>\n",
       "      <td id=\"T_2bacc_row14_col4\" class=\"data row14 col4\" >1</td>\n",
       "      <td id=\"T_2bacc_row14_col5\" class=\"data row14 col5\" >162</td>\n",
       "      <td id=\"T_2bacc_row14_col6\" class=\"data row14 col6\" >0</td>\n",
       "      <td id=\"T_2bacc_row14_col7\" class=\"data row14 col7\" >1.000000</td>\n",
       "      <td id=\"T_2bacc_row14_col8\" class=\"data row14 col8\" >1</td>\n",
       "      <td id=\"T_2bacc_row14_col9\" class=\"data row14 col9\" >0.000000</td>\n",
       "      <td id=\"T_2bacc_row14_col10\" class=\"data row14 col10\" >0.000000</td>\n",
       "      <td id=\"T_2bacc_row14_col11\" class=\"data row14 col11\" >0.000000</td>\n",
       "      <td id=\"T_2bacc_row14_col12\" class=\"data row14 col12\" >1.000000</td>\n",
       "      <td id=\"T_2bacc_row14_col13\" class=\"data row14 col13\" >1.000000</td>\n",
       "      <td id=\"T_2bacc_row14_col14\" class=\"data row14 col14\" >0.000000</td>\n",
       "      <td id=\"T_2bacc_row14_col15\" class=\"data row14 col15\" >0.000000</td>\n",
       "      <td id=\"T_2bacc_row14_col16\" class=\"data row14 col16\" >0.000000</td>\n",
       "      <td id=\"T_2bacc_row14_col17\" class=\"data row14 col17\" >0.000000</td>\n",
       "      <td id=\"T_2bacc_row14_col18\" class=\"data row14 col18\" >1.000000</td>\n",
       "      <td id=\"T_2bacc_row14_col19\" class=\"data row14 col19\" >1.000000</td>\n",
       "      <td id=\"T_2bacc_row14_col20\" class=\"data row14 col20\" >0.000000</td>\n",
       "      <td id=\"T_2bacc_row14_col21\" class=\"data row14 col21\" >0.000000</td>\n",
       "      <td id=\"T_2bacc_row14_col22\" class=\"data row14 col22\" >0.000000</td>\n",
       "      <td id=\"T_2bacc_row14_col23\" class=\"data row14 col23\" >0.000000</td>\n",
       "      <td id=\"T_2bacc_row14_col24\" class=\"data row14 col24\" >0.000000</td>\n",
       "      <td id=\"T_2bacc_row14_col25\" class=\"data row14 col25\" >0.000000</td>\n",
       "      <td id=\"T_2bacc_row14_col26\" class=\"data row14 col26\" >1.000000</td>\n",
       "      <td id=\"T_2bacc_row14_col27\" class=\"data row14 col27\" >0.000000</td>\n",
       "    </tr>\n",
       "    <tr>\n",
       "      <th id=\"T_2bacc_level0_row15\" class=\"row_heading level0 row15\" >15</th>\n",
       "      <td id=\"T_2bacc_row15_col0\" class=\"data row15 col0\" >50</td>\n",
       "      <td id=\"T_2bacc_row15_col1\" class=\"data row15 col1\" >0</td>\n",
       "      <td id=\"T_2bacc_row15_col2\" class=\"data row15 col2\" >120</td>\n",
       "      <td id=\"T_2bacc_row15_col3\" class=\"data row15 col3\" >219</td>\n",
       "      <td id=\"T_2bacc_row15_col4\" class=\"data row15 col4\" >0</td>\n",
       "      <td id=\"T_2bacc_row15_col5\" class=\"data row15 col5\" >158</td>\n",
       "      <td id=\"T_2bacc_row15_col6\" class=\"data row15 col6\" >0</td>\n",
       "      <td id=\"T_2bacc_row15_col7\" class=\"data row15 col7\" >1.600000</td>\n",
       "      <td id=\"T_2bacc_row15_col8\" class=\"data row15 col8\" >1</td>\n",
       "      <td id=\"T_2bacc_row15_col9\" class=\"data row15 col9\" >0.000000</td>\n",
       "      <td id=\"T_2bacc_row15_col10\" class=\"data row15 col10\" >0.000000</td>\n",
       "      <td id=\"T_2bacc_row15_col11\" class=\"data row15 col11\" >1.000000</td>\n",
       "      <td id=\"T_2bacc_row15_col12\" class=\"data row15 col12\" >0.000000</td>\n",
       "      <td id=\"T_2bacc_row15_col13\" class=\"data row15 col13\" >0.000000</td>\n",
       "      <td id=\"T_2bacc_row15_col14\" class=\"data row15 col14\" >1.000000</td>\n",
       "      <td id=\"T_2bacc_row15_col15\" class=\"data row15 col15\" >0.000000</td>\n",
       "      <td id=\"T_2bacc_row15_col16\" class=\"data row15 col16\" >0.000000</td>\n",
       "      <td id=\"T_2bacc_row15_col17\" class=\"data row15 col17\" >1.000000</td>\n",
       "      <td id=\"T_2bacc_row15_col18\" class=\"data row15 col18\" >0.000000</td>\n",
       "      <td id=\"T_2bacc_row15_col19\" class=\"data row15 col19\" >1.000000</td>\n",
       "      <td id=\"T_2bacc_row15_col20\" class=\"data row15 col20\" >0.000000</td>\n",
       "      <td id=\"T_2bacc_row15_col21\" class=\"data row15 col21\" >0.000000</td>\n",
       "      <td id=\"T_2bacc_row15_col22\" class=\"data row15 col22\" >0.000000</td>\n",
       "      <td id=\"T_2bacc_row15_col23\" class=\"data row15 col23\" >0.000000</td>\n",
       "      <td id=\"T_2bacc_row15_col24\" class=\"data row15 col24\" >0.000000</td>\n",
       "      <td id=\"T_2bacc_row15_col25\" class=\"data row15 col25\" >0.000000</td>\n",
       "      <td id=\"T_2bacc_row15_col26\" class=\"data row15 col26\" >1.000000</td>\n",
       "      <td id=\"T_2bacc_row15_col27\" class=\"data row15 col27\" >0.000000</td>\n",
       "    </tr>\n",
       "    <tr>\n",
       "      <th id=\"T_2bacc_level0_row16\" class=\"row_heading level0 row16\" >16</th>\n",
       "      <td id=\"T_2bacc_row16_col0\" class=\"data row16 col0\" >58</td>\n",
       "      <td id=\"T_2bacc_row16_col1\" class=\"data row16 col1\" >0</td>\n",
       "      <td id=\"T_2bacc_row16_col2\" class=\"data row16 col2\" >120</td>\n",
       "      <td id=\"T_2bacc_row16_col3\" class=\"data row16 col3\" >340</td>\n",
       "      <td id=\"T_2bacc_row16_col4\" class=\"data row16 col4\" >0</td>\n",
       "      <td id=\"T_2bacc_row16_col5\" class=\"data row16 col5\" >172</td>\n",
       "      <td id=\"T_2bacc_row16_col6\" class=\"data row16 col6\" >0</td>\n",
       "      <td id=\"T_2bacc_row16_col7\" class=\"data row16 col7\" >0.000000</td>\n",
       "      <td id=\"T_2bacc_row16_col8\" class=\"data row16 col8\" >1</td>\n",
       "      <td id=\"T_2bacc_row16_col9\" class=\"data row16 col9\" >0.000000</td>\n",
       "      <td id=\"T_2bacc_row16_col10\" class=\"data row16 col10\" >0.000000</td>\n",
       "      <td id=\"T_2bacc_row16_col11\" class=\"data row16 col11\" >1.000000</td>\n",
       "      <td id=\"T_2bacc_row16_col12\" class=\"data row16 col12\" >0.000000</td>\n",
       "      <td id=\"T_2bacc_row16_col13\" class=\"data row16 col13\" >0.000000</td>\n",
       "      <td id=\"T_2bacc_row16_col14\" class=\"data row16 col14\" >1.000000</td>\n",
       "      <td id=\"T_2bacc_row16_col15\" class=\"data row16 col15\" >0.000000</td>\n",
       "      <td id=\"T_2bacc_row16_col16\" class=\"data row16 col16\" >0.000000</td>\n",
       "      <td id=\"T_2bacc_row16_col17\" class=\"data row16 col17\" >0.000000</td>\n",
       "      <td id=\"T_2bacc_row16_col18\" class=\"data row16 col18\" >1.000000</td>\n",
       "      <td id=\"T_2bacc_row16_col19\" class=\"data row16 col19\" >1.000000</td>\n",
       "      <td id=\"T_2bacc_row16_col20\" class=\"data row16 col20\" >0.000000</td>\n",
       "      <td id=\"T_2bacc_row16_col21\" class=\"data row16 col21\" >0.000000</td>\n",
       "      <td id=\"T_2bacc_row16_col22\" class=\"data row16 col22\" >0.000000</td>\n",
       "      <td id=\"T_2bacc_row16_col23\" class=\"data row16 col23\" >0.000000</td>\n",
       "      <td id=\"T_2bacc_row16_col24\" class=\"data row16 col24\" >0.000000</td>\n",
       "      <td id=\"T_2bacc_row16_col25\" class=\"data row16 col25\" >0.000000</td>\n",
       "      <td id=\"T_2bacc_row16_col26\" class=\"data row16 col26\" >1.000000</td>\n",
       "      <td id=\"T_2bacc_row16_col27\" class=\"data row16 col27\" >0.000000</td>\n",
       "    </tr>\n",
       "    <tr>\n",
       "      <th id=\"T_2bacc_level0_row17\" class=\"row_heading level0 row17\" >17</th>\n",
       "      <td id=\"T_2bacc_row17_col0\" class=\"data row17 col0\" >66</td>\n",
       "      <td id=\"T_2bacc_row17_col1\" class=\"data row17 col1\" >0</td>\n",
       "      <td id=\"T_2bacc_row17_col2\" class=\"data row17 col2\" >150</td>\n",
       "      <td id=\"T_2bacc_row17_col3\" class=\"data row17 col3\" >226</td>\n",
       "      <td id=\"T_2bacc_row17_col4\" class=\"data row17 col4\" >0</td>\n",
       "      <td id=\"T_2bacc_row17_col5\" class=\"data row17 col5\" >114</td>\n",
       "      <td id=\"T_2bacc_row17_col6\" class=\"data row17 col6\" >0</td>\n",
       "      <td id=\"T_2bacc_row17_col7\" class=\"data row17 col7\" >2.600000</td>\n",
       "      <td id=\"T_2bacc_row17_col8\" class=\"data row17 col8\" >1</td>\n",
       "      <td id=\"T_2bacc_row17_col9\" class=\"data row17 col9\" >0.000000</td>\n",
       "      <td id=\"T_2bacc_row17_col10\" class=\"data row17 col10\" >0.000000</td>\n",
       "      <td id=\"T_2bacc_row17_col11\" class=\"data row17 col11\" >0.000000</td>\n",
       "      <td id=\"T_2bacc_row17_col12\" class=\"data row17 col12\" >1.000000</td>\n",
       "      <td id=\"T_2bacc_row17_col13\" class=\"data row17 col13\" >0.000000</td>\n",
       "      <td id=\"T_2bacc_row17_col14\" class=\"data row17 col14\" >1.000000</td>\n",
       "      <td id=\"T_2bacc_row17_col15\" class=\"data row17 col15\" >0.000000</td>\n",
       "      <td id=\"T_2bacc_row17_col16\" class=\"data row17 col16\" >1.000000</td>\n",
       "      <td id=\"T_2bacc_row17_col17\" class=\"data row17 col17\" >0.000000</td>\n",
       "      <td id=\"T_2bacc_row17_col18\" class=\"data row17 col18\" >0.000000</td>\n",
       "      <td id=\"T_2bacc_row17_col19\" class=\"data row17 col19\" >1.000000</td>\n",
       "      <td id=\"T_2bacc_row17_col20\" class=\"data row17 col20\" >0.000000</td>\n",
       "      <td id=\"T_2bacc_row17_col21\" class=\"data row17 col21\" >0.000000</td>\n",
       "      <td id=\"T_2bacc_row17_col22\" class=\"data row17 col22\" >0.000000</td>\n",
       "      <td id=\"T_2bacc_row17_col23\" class=\"data row17 col23\" >0.000000</td>\n",
       "      <td id=\"T_2bacc_row17_col24\" class=\"data row17 col24\" >0.000000</td>\n",
       "      <td id=\"T_2bacc_row17_col25\" class=\"data row17 col25\" >0.000000</td>\n",
       "      <td id=\"T_2bacc_row17_col26\" class=\"data row17 col26\" >1.000000</td>\n",
       "      <td id=\"T_2bacc_row17_col27\" class=\"data row17 col27\" >0.000000</td>\n",
       "    </tr>\n",
       "    <tr>\n",
       "      <th id=\"T_2bacc_level0_row18\" class=\"row_heading level0 row18\" >18</th>\n",
       "      <td id=\"T_2bacc_row18_col0\" class=\"data row18 col0\" >43</td>\n",
       "      <td id=\"T_2bacc_row18_col1\" class=\"data row18 col1\" >1</td>\n",
       "      <td id=\"T_2bacc_row18_col2\" class=\"data row18 col2\" >150</td>\n",
       "      <td id=\"T_2bacc_row18_col3\" class=\"data row18 col3\" >247</td>\n",
       "      <td id=\"T_2bacc_row18_col4\" class=\"data row18 col4\" >0</td>\n",
       "      <td id=\"T_2bacc_row18_col5\" class=\"data row18 col5\" >171</td>\n",
       "      <td id=\"T_2bacc_row18_col6\" class=\"data row18 col6\" >0</td>\n",
       "      <td id=\"T_2bacc_row18_col7\" class=\"data row18 col7\" >1.500000</td>\n",
       "      <td id=\"T_2bacc_row18_col8\" class=\"data row18 col8\" >1</td>\n",
       "      <td id=\"T_2bacc_row18_col9\" class=\"data row18 col9\" >1.000000</td>\n",
       "      <td id=\"T_2bacc_row18_col10\" class=\"data row18 col10\" >0.000000</td>\n",
       "      <td id=\"T_2bacc_row18_col11\" class=\"data row18 col11\" >0.000000</td>\n",
       "      <td id=\"T_2bacc_row18_col12\" class=\"data row18 col12\" >0.000000</td>\n",
       "      <td id=\"T_2bacc_row18_col13\" class=\"data row18 col13\" >0.000000</td>\n",
       "      <td id=\"T_2bacc_row18_col14\" class=\"data row18 col14\" >1.000000</td>\n",
       "      <td id=\"T_2bacc_row18_col15\" class=\"data row18 col15\" >0.000000</td>\n",
       "      <td id=\"T_2bacc_row18_col16\" class=\"data row18 col16\" >0.000000</td>\n",
       "      <td id=\"T_2bacc_row18_col17\" class=\"data row18 col17\" >0.000000</td>\n",
       "      <td id=\"T_2bacc_row18_col18\" class=\"data row18 col18\" >1.000000</td>\n",
       "      <td id=\"T_2bacc_row18_col19\" class=\"data row18 col19\" >1.000000</td>\n",
       "      <td id=\"T_2bacc_row18_col20\" class=\"data row18 col20\" >0.000000</td>\n",
       "      <td id=\"T_2bacc_row18_col21\" class=\"data row18 col21\" >0.000000</td>\n",
       "      <td id=\"T_2bacc_row18_col22\" class=\"data row18 col22\" >0.000000</td>\n",
       "      <td id=\"T_2bacc_row18_col23\" class=\"data row18 col23\" >0.000000</td>\n",
       "      <td id=\"T_2bacc_row18_col24\" class=\"data row18 col24\" >0.000000</td>\n",
       "      <td id=\"T_2bacc_row18_col25\" class=\"data row18 col25\" >0.000000</td>\n",
       "      <td id=\"T_2bacc_row18_col26\" class=\"data row18 col26\" >1.000000</td>\n",
       "      <td id=\"T_2bacc_row18_col27\" class=\"data row18 col27\" >0.000000</td>\n",
       "    </tr>\n",
       "    <tr>\n",
       "      <th id=\"T_2bacc_level0_row19\" class=\"row_heading level0 row19\" >19</th>\n",
       "      <td id=\"T_2bacc_row19_col0\" class=\"data row19 col0\" >69</td>\n",
       "      <td id=\"T_2bacc_row19_col1\" class=\"data row19 col1\" >0</td>\n",
       "      <td id=\"T_2bacc_row19_col2\" class=\"data row19 col2\" >140</td>\n",
       "      <td id=\"T_2bacc_row19_col3\" class=\"data row19 col3\" >239</td>\n",
       "      <td id=\"T_2bacc_row19_col4\" class=\"data row19 col4\" >0</td>\n",
       "      <td id=\"T_2bacc_row19_col5\" class=\"data row19 col5\" >151</td>\n",
       "      <td id=\"T_2bacc_row19_col6\" class=\"data row19 col6\" >0</td>\n",
       "      <td id=\"T_2bacc_row19_col7\" class=\"data row19 col7\" >1.800000</td>\n",
       "      <td id=\"T_2bacc_row19_col8\" class=\"data row19 col8\" >1</td>\n",
       "      <td id=\"T_2bacc_row19_col9\" class=\"data row19 col9\" >0.000000</td>\n",
       "      <td id=\"T_2bacc_row19_col10\" class=\"data row19 col10\" >0.000000</td>\n",
       "      <td id=\"T_2bacc_row19_col11\" class=\"data row19 col11\" >0.000000</td>\n",
       "      <td id=\"T_2bacc_row19_col12\" class=\"data row19 col12\" >1.000000</td>\n",
       "      <td id=\"T_2bacc_row19_col13\" class=\"data row19 col13\" >0.000000</td>\n",
       "      <td id=\"T_2bacc_row19_col14\" class=\"data row19 col14\" >1.000000</td>\n",
       "      <td id=\"T_2bacc_row19_col15\" class=\"data row19 col15\" >0.000000</td>\n",
       "      <td id=\"T_2bacc_row19_col16\" class=\"data row19 col16\" >0.000000</td>\n",
       "      <td id=\"T_2bacc_row19_col17\" class=\"data row19 col17\" >0.000000</td>\n",
       "      <td id=\"T_2bacc_row19_col18\" class=\"data row19 col18\" >1.000000</td>\n",
       "      <td id=\"T_2bacc_row19_col19\" class=\"data row19 col19\" >0.000000</td>\n",
       "      <td id=\"T_2bacc_row19_col20\" class=\"data row19 col20\" >0.000000</td>\n",
       "      <td id=\"T_2bacc_row19_col21\" class=\"data row19 col21\" >1.000000</td>\n",
       "      <td id=\"T_2bacc_row19_col22\" class=\"data row19 col22\" >0.000000</td>\n",
       "      <td id=\"T_2bacc_row19_col23\" class=\"data row19 col23\" >0.000000</td>\n",
       "      <td id=\"T_2bacc_row19_col24\" class=\"data row19 col24\" >0.000000</td>\n",
       "      <td id=\"T_2bacc_row19_col25\" class=\"data row19 col25\" >0.000000</td>\n",
       "      <td id=\"T_2bacc_row19_col26\" class=\"data row19 col26\" >1.000000</td>\n",
       "      <td id=\"T_2bacc_row19_col27\" class=\"data row19 col27\" >0.000000</td>\n",
       "    </tr>\n",
       "  </tbody>\n",
       "</table>\n"
      ],
      "text/plain": [
       "<pandas.io.formats.style.Styler at 0x23063d4b970>"
      ]
     },
     "execution_count": 24,
     "metadata": {},
     "output_type": "execute_result"
    }
   ],
   "source": [
    "# OH encoding!\n",
    "ohe = OneHotEncoder(handle_unknown='ignore')\n",
    "\n",
    "encoded_df = pd.DataFrame(ohe.fit_transform(heart_frame[['cp',  'restecg', 'slope', 'ca', 'thal']]).toarray())\n",
    "encoded_df.columns = ohe.get_feature_names_out(['cp',  'restecg', 'slope', 'ca', 'thal'])\n",
    "\n",
    "# merge one-hot encoded columns back with df\n",
    "temp_df = heart_frame.join(encoded_df)\n",
    "temp_df.drop(['cp',  'restecg', 'slope', 'ca', 'thal'], axis=1, inplace=True)\n",
    "heart_frame = temp_df\n",
    "temp_df = None\n",
    "\n",
    "#view encoded df\n",
    "heart_frame[0:20].style"
   ]
  },
  {
   "cell_type": "code",
   "execution_count": 25,
   "id": "19ef03eb",
   "metadata": {},
   "outputs": [],
   "source": [
    "# train test split\n",
    "y = heart_frame['target']\n",
    "X = heart_frame.loc[:, heart_frame.columns != 'target']\n",
    "\n",
    "X_scaled = skpp.StandardScaler().fit_transform(X)\n",
    "\n",
    "X_train, X_test, Y_train, Y_test = train_test_split(X_scaled, y, test_size=0.2, random_state=72)"
   ]
  },
  {
   "cell_type": "markdown",
   "id": "b86c9e22",
   "metadata": {},
   "source": [
    "With the aformentioned one-hot encoding and scaling complete, as well as a test-train split of our given dataset, we are ready to begin making predictions on the data."
   ]
  },
  {
   "cell_type": "markdown",
   "id": "fef65bcd",
   "metadata": {},
   "source": [
    "## Begin Machine Learning\n",
    "The main purpose of this notebook is to utilize a wide variety of algorithms and compare them, and that process will follow in the below section."
   ]
  },
  {
   "cell_type": "code",
   "execution_count": 26,
   "id": "9df0b729",
   "metadata": {},
   "outputs": [
    {
     "data": {
      "text/plain": [
       "LogisticRegression(random_state=7)"
      ]
     },
     "execution_count": 26,
     "metadata": {},
     "output_type": "execute_result"
    }
   ],
   "source": [
    "# create logistic regression object\n",
    "lr = LogisticRegression(random_state = 7)\n",
    "lr.fit(X_train, Y_train)"
   ]
  },
  {
   "cell_type": "code",
   "execution_count": 27,
   "id": "e04f3810",
   "metadata": {},
   "outputs": [],
   "source": [
    "y_prob = lr.predict_proba(X_test)[:,1]\n",
    "y_pred = np.where(y_prob > 0.5, 1, 0)"
   ]
  },
  {
   "cell_type": "code",
   "execution_count": 28,
   "id": "d1a035fa",
   "metadata": {},
   "outputs": [
    {
     "data": {
      "text/plain": [
       "array([[22,  1],\n",
       "       [ 5, 33]], dtype=int64)"
      ]
     },
     "execution_count": 28,
     "metadata": {},
     "output_type": "execute_result"
    }
   ],
   "source": [
    "confusion_matrix = metrics.confusion_matrix(Y_test, y_pred)\n",
    "confusion_matrix"
   ]
  },
  {
   "cell_type": "markdown",
   "id": "60f8d72b",
   "metadata": {},
   "source": [
    "((22 + 33) / (5 + 1 + 21 + 33)) x 100 = **91.67%** accuracy from the **logistic regression** model."
   ]
  },
  {
   "cell_type": "code",
   "execution_count": 29,
   "id": "331615f4",
   "metadata": {},
   "outputs": [
    {
     "data": {
      "text/plain": [
       "LogisticRegressionCV(random_state=7)"
      ]
     },
     "execution_count": 29,
     "metadata": {},
     "output_type": "execute_result"
    }
   ],
   "source": [
    "lrcv = LogisticRegressionCV(random_state = 7)\n",
    "lrcv.fit(X_train, Y_train)"
   ]
  },
  {
   "cell_type": "code",
   "execution_count": 30,
   "id": "1b5e2db4",
   "metadata": {},
   "outputs": [],
   "source": [
    "y_prob = lrcv.predict_proba(X_test)[:,1]\n",
    "y_pred = np.where(y_prob > 0.5, 1, 0)"
   ]
  },
  {
   "cell_type": "code",
   "execution_count": 31,
   "id": "465be6d8",
   "metadata": {},
   "outputs": [
    {
     "data": {
      "text/plain": [
       "array([[22,  1],\n",
       "       [ 8, 30]], dtype=int64)"
      ]
     },
     "execution_count": 31,
     "metadata": {},
     "output_type": "execute_result"
    }
   ],
   "source": [
    "confusion_matrix = metrics.confusion_matrix(Y_test, y_pred)\n",
    "confusion_matrix"
   ]
  },
  {
   "cell_type": "markdown",
   "id": "f59d41d8",
   "metadata": {},
   "source": [
    "((22 + 30) / (8 + 1 + 22 + 30)) x 100 = **85.25%** accuracy from the **logistic regression with cross validation** model."
   ]
  },
  {
   "cell_type": "code",
   "execution_count": 32,
   "id": "9d8b9fa9",
   "metadata": {},
   "outputs": [
    {
     "data": {
      "text/plain": [
       "RidgeClassifierCV(alphas=array([ 0.1,  1. , 10. ]))"
      ]
     },
     "execution_count": 32,
     "metadata": {},
     "output_type": "execute_result"
    }
   ],
   "source": [
    "rcv = RidgeClassifierCV()\n",
    "rcv.fit(X_train, Y_train)"
   ]
  },
  {
   "cell_type": "code",
   "execution_count": 33,
   "id": "2fa5dcbc",
   "metadata": {},
   "outputs": [],
   "source": [
    "y_pred = rcv.predict(X_test)"
   ]
  },
  {
   "cell_type": "code",
   "execution_count": 34,
   "id": "c5401c65",
   "metadata": {},
   "outputs": [
    {
     "data": {
      "text/plain": [
       "array([[21,  2],\n",
       "       [ 7, 31]], dtype=int64)"
      ]
     },
     "execution_count": 34,
     "metadata": {},
     "output_type": "execute_result"
    }
   ],
   "source": [
    "confusion_matrix = metrics.confusion_matrix(Y_test, y_pred)\n",
    "confusion_matrix"
   ]
  },
  {
   "cell_type": "markdown",
   "id": "37955155",
   "metadata": {},
   "source": [
    "((21 + 31) / (7 + 2 + 21 + 31)) x 100 = **85.25%** accuracy from the **ridge regression with cross validation** model."
   ]
  },
  {
   "cell_type": "code",
   "execution_count": 35,
   "id": "13ecb069",
   "metadata": {},
   "outputs": [
    {
     "data": {
      "text/plain": [
       "SGDClassifier(random_state=7)"
      ]
     },
     "execution_count": 35,
     "metadata": {},
     "output_type": "execute_result"
    }
   ],
   "source": [
    "sgdc = SGDClassifier(random_state = 7)\n",
    "sgdc.fit(X_train, Y_train)"
   ]
  },
  {
   "cell_type": "code",
   "execution_count": 36,
   "id": "c09bb36d",
   "metadata": {},
   "outputs": [],
   "source": [
    "y_pred = sgdc.predict(X_test)"
   ]
  },
  {
   "cell_type": "code",
   "execution_count": 37,
   "id": "f4ce1c1e",
   "metadata": {},
   "outputs": [
    {
     "data": {
      "text/plain": [
       "array([[18,  5],\n",
       "       [14, 24]], dtype=int64)"
      ]
     },
     "execution_count": 37,
     "metadata": {},
     "output_type": "execute_result"
    }
   ],
   "source": [
    "confusion_matrix = metrics.confusion_matrix(Y_test, y_pred)\n",
    "confusion_matrix "
   ]
  },
  {
   "cell_type": "markdown",
   "id": "4d494189",
   "metadata": {},
   "source": [
    "((18 + 24) / (14 + 5 + 18 + 24)) x 100 = **68.85%** accuracy from the **stochastic gradient descent classifier** model."
   ]
  },
  {
   "cell_type": "markdown",
   "id": "07d13825",
   "metadata": {},
   "source": [
    "For K nearest neighbors, we will run multiple models to determine the most accurate value of K to use."
   ]
  },
  {
   "cell_type": "code",
   "execution_count": 38,
   "id": "ec97dfba",
   "metadata": {},
   "outputs": [],
   "source": [
    "knn_vals = []\n",
    "for i in range(1,26):\n",
    "    knc = KNeighborsClassifier(n_neighbors = i)\n",
    "    knc.fit(X_train, Y_train)\n",
    "    knn_vals.append(knc.score(X_test, Y_test))"
   ]
  },
  {
   "cell_type": "code",
   "execution_count": 39,
   "id": "e33766d9",
   "metadata": {},
   "outputs": [
    {
     "data": {
      "text/plain": [
       "Text(0.5, 1.0, 'K vs Accuracy Scores')"
      ]
     },
     "execution_count": 39,
     "metadata": {},
     "output_type": "execute_result"
    },
    {
     "data": {
      "image/png": "[encoded data removed]",
      "text/plain": [
       "<Figure size 432x288 with 1 Axes>"
      ]
     },
     "metadata": {
      "needs_background": "light"
     },
     "output_type": "display_data"
    }
   ],
   "source": [
    "plt.plot([i for i in range(1,26)], knn_vals, color='green')\n",
    "plt.xlabel('Number of Neighbors (K)')\n",
    "plt.ylabel('Accuracy')\n",
    "plt.title('K vs Accuracy Scores')"
   ]
  },
  {
   "cell_type": "markdown",
   "id": "33a69c0f",
   "metadata": {},
   "source": [
    "It appears the most accurate value of K is 11!"
   ]
  },
  {
   "cell_type": "code",
   "execution_count": 40,
   "id": "e79bfac4",
   "metadata": {},
   "outputs": [
    {
     "data": {
      "text/plain": [
       "KNeighborsClassifier(n_neighbors=11)"
      ]
     },
     "execution_count": 40,
     "metadata": {},
     "output_type": "execute_result"
    }
   ],
   "source": [
    "knc = KNeighborsClassifier(n_neighbors = 11)\n",
    "knc.fit(X_train, Y_train)"
   ]
  },
  {
   "cell_type": "code",
   "execution_count": 41,
   "id": "87f379a7",
   "metadata": {},
   "outputs": [],
   "source": [
    "y_pred = knc.predict(X_test)"
   ]
  },
  {
   "cell_type": "code",
   "execution_count": 42,
   "id": "2fd78967",
   "metadata": {},
   "outputs": [
    {
     "data": {
      "text/plain": [
       "array([[22,  1],\n",
       "       [ 4, 34]], dtype=int64)"
      ]
     },
     "execution_count": 42,
     "metadata": {},
     "output_type": "execute_result"
    }
   ],
   "source": [
    "confusion_matrix = metrics.confusion_matrix(Y_test, y_pred)\n",
    "confusion_matrix "
   ]
  },
  {
   "cell_type": "markdown",
   "id": "976b165d",
   "metadata": {},
   "source": [
    "((22 + 34) / (4 + 1 + 22 + 34)) x 100 = **91.8%** accuracy from the **k nearest neighbors** model."
   ]
  },
  {
   "cell_type": "code",
   "execution_count": 43,
   "id": "8ca526cf",
   "metadata": {},
   "outputs": [
    {
     "data": {
      "text/plain": [
       "SVC(random_state=7)"
      ]
     },
     "execution_count": 43,
     "metadata": {},
     "output_type": "execute_result"
    }
   ],
   "source": [
    "svc = SVC(random_state = 7)\n",
    "svc.fit(X_train, Y_train)"
   ]
  },
  {
   "cell_type": "code",
   "execution_count": 44,
   "id": "b55c560f",
   "metadata": {},
   "outputs": [],
   "source": [
    "y_pred = svc.predict(X_test)"
   ]
  },
  {
   "cell_type": "code",
   "execution_count": 45,
   "id": "d6387439",
   "metadata": {},
   "outputs": [
    {
     "data": {
      "text/plain": [
       "array([[21,  2],\n",
       "       [ 8, 30]], dtype=int64)"
      ]
     },
     "execution_count": 45,
     "metadata": {},
     "output_type": "execute_result"
    }
   ],
   "source": [
    "confusion_matrix = metrics.confusion_matrix(Y_test, y_pred)\n",
    "confusion_matrix "
   ]
  },
  {
   "cell_type": "markdown",
   "id": "ae29201e",
   "metadata": {},
   "source": [
    "((21 + 30) x (8 + 2 + 21 + 30)) x 100 = **83.61%** accuracy from the **support vector classifier** model."
   ]
  },
  {
   "cell_type": "markdown",
   "id": "1675bae8",
   "metadata": {},
   "source": [
    "Similarly to KNN, with the decision tree classifier model multiple runs will be done to determine the most accurate number of features to be used."
   ]
  },
  {
   "cell_type": "code",
   "execution_count": 46,
   "id": "f08a0f40",
   "metadata": {},
   "outputs": [],
   "source": [
    "tree_vals = []\n",
    "for i in range(1, len(X.columns) + 1):\n",
    "    dtc = DecisionTreeClassifier(max_features = i, random_state = 1)\n",
    "    dtc.fit(X_train, Y_train)\n",
    "    tree_vals.append(dtc.score(X_test, Y_test))"
   ]
  },
  {
   "cell_type": "code",
   "execution_count": 47,
   "id": "032c716a",
   "metadata": {},
   "outputs": [
    {
     "data": {
      "text/plain": [
       "Text(0.5, 1.0, 'Feature Limit vs Accuracy Scores')"
      ]
     },
     "execution_count": 47,
     "metadata": {},
     "output_type": "execute_result"
    },
    {
     "data": {
      "image/png": "[encoded data removed]",
      "text/plain": [
       "<Figure size 432x288 with 1 Axes>"
      ]
     },
     "metadata": {
      "needs_background": "light"
     },
     "output_type": "display_data"
    }
   ],
   "source": [
    "plt.plot([i for i in range(1, len(X.columns) + 1)], tree_vals, color='green')\n",
    "plt.xlabel('Feature Limit')\n",
    "plt.ylabel('Accuracy')\n",
    "plt.title('Feature Limit vs Accuracy Scores')"
   ]
  },
  {
   "cell_type": "markdown",
   "id": "221d16d1",
   "metadata": {},
   "source": [
    "Per the above visual, our desired number of features to limit is 3!"
   ]
  },
  {
   "cell_type": "code",
   "execution_count": 48,
   "id": "b6909c30",
   "metadata": {},
   "outputs": [
    {
     "data": {
      "text/plain": [
       "DecisionTreeClassifier(max_features=3, random_state=7)"
      ]
     },
     "execution_count": 48,
     "metadata": {},
     "output_type": "execute_result"
    }
   ],
   "source": [
    "dtc = DecisionTreeClassifier(max_features = 3, random_state = 7)\n",
    "dtc.fit(X_train, Y_train)"
   ]
  },
  {
   "cell_type": "code",
   "execution_count": 49,
   "id": "961624ea",
   "metadata": {},
   "outputs": [],
   "source": [
    "y_pred = dtc.predict(X_test)"
   ]
  },
  {
   "cell_type": "code",
   "execution_count": 50,
   "id": "4f758109",
   "metadata": {},
   "outputs": [
    {
     "data": {
      "text/plain": [
       "array([[17,  6],\n",
       "       [10, 28]], dtype=int64)"
      ]
     },
     "execution_count": 50,
     "metadata": {},
     "output_type": "execute_result"
    }
   ],
   "source": [
    "confusion_matrix = metrics.confusion_matrix(Y_test, y_pred)\n",
    "confusion_matrix"
   ]
  },
  {
   "cell_type": "markdown",
   "id": "863dcd8a",
   "metadata": {},
   "source": [
    "((17 + 28) / (6 + 10 + 17 + 28)) x 100 = **73.77%** accuracy from the **decision tree** model."
   ]
  },
  {
   "cell_type": "code",
   "execution_count": 51,
   "id": "f24467f8",
   "metadata": {},
   "outputs": [
    {
     "data": {
      "text/plain": [
       "RandomForestClassifier(random_state=7)"
      ]
     },
     "execution_count": 51,
     "metadata": {},
     "output_type": "execute_result"
    }
   ],
   "source": [
    "rfc = RandomForestClassifier(random_state = 7)\n",
    "rfc.fit(X_train, Y_train)"
   ]
  },
  {
   "cell_type": "code",
   "execution_count": 52,
   "id": "8ab1873e",
   "metadata": {},
   "outputs": [],
   "source": [
    "y_pred = rfc.predict(X_test)"
   ]
  },
  {
   "cell_type": "code",
   "execution_count": 53,
   "id": "510c11d2",
   "metadata": {},
   "outputs": [
    {
     "data": {
      "text/plain": [
       "array([[21,  2],\n",
       "       [ 8, 30]], dtype=int64)"
      ]
     },
     "execution_count": 53,
     "metadata": {},
     "output_type": "execute_result"
    }
   ],
   "source": [
    "confusion_matrix = metrics.confusion_matrix(Y_test, y_pred)\n",
    "confusion_matrix "
   ]
  },
  {
   "cell_type": "markdown",
   "id": "859264f2",
   "metadata": {},
   "source": [
    "((21 + 30) / (8 + 2 + 21 + 30)) x 100 = **83.61%** accuracy from the **random forest classifier** model."
   ]
  },
  {
   "cell_type": "markdown",
   "id": "db866de5",
   "metadata": {},
   "source": [
    "## In Conclusion"
   ]
  },
  {
   "cell_type": "markdown",
   "id": "a9952457",
   "metadata": {},
   "source": [
    "The Heart Disease UCI dataset on Kaggle is popular amongst ML engineers, and this notebook shows that it is with good reason this is the case. While being a relatively clean dataset, it still allowed the opportunity to implement data scaling as well as encoding plus it afforded the always enriching chance at exploratory data analysis. Additionally, the data provided a good base with which to compare various algorithms offered by the highly capable sklearn library. In the end, it seems that the logistic regression and k-nearest neighbors algorithms were most accurate. Given the healthcare diagnostic use case this dataset provides, it does make intuitive sense that k-nearest neighbors was the most accurate. With the right feature set, those diagnosed with similar ailments should be very near each other in a dimensional space and as such it would be my personal recommendation to use moving forward.   "
   ]
  }
 ],
 "metadata": {
  "kernelspec": {
   "display_name": "Python 3 (ipykernel)",
   "language": "python",
   "name": "python3"
  },
  "language_info": {
   "codemirror_mode": {
    "name": "ipython",
    "version": 3
   },
   "file_extension": ".py",
   "mimetype": "text/x-python",
   "name": "python",
   "nbconvert_exporter": "python",
   "pygments_lexer": "ipython3",
   "version": "3.9.7"
  }
 },
 "nbformat": 4,
 "nbformat_minor": 5
}
